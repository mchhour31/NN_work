{
 "cells": [
  {
   "cell_type": "code",
   "execution_count": 211,
   "id": "82b5613c",
   "metadata": {},
   "outputs": [
    {
     "name": "stdout",
     "output_type": "stream",
     "text": [
      "The autoreload extension is already loaded. To reload it, use:\n",
      "  %reload_ext autoreload\n"
     ]
    }
   ],
   "source": [
    "import numpy as np\n",
    "import pandas as pd\n",
    "\n",
    "import matplotlib\n",
    "import matplotlib.pyplot as plt\n",
    "\n",
    "%matplotlib inline\n",
    "%load_ext autoreload\n",
    "%autoreload 2"
   ]
  },
  {
   "cell_type": "code",
   "execution_count": 213,
   "id": "a631c85b",
   "metadata": {},
   "outputs": [],
   "source": [
    "from sklearn.datasets import load_digits\n",
    "\n",
    "digits = load_digits()"
   ]
  },
  {
   "cell_type": "code",
   "execution_count": 214,
   "id": "a4bf5b91",
   "metadata": {},
   "outputs": [
    {
     "data": {
      "text/plain": [
       "(1797, 8, 8)"
      ]
     },
     "execution_count": 214,
     "metadata": {},
     "output_type": "execute_result"
    }
   ],
   "source": [
    "digits.images.shape"
   ]
  },
  {
   "cell_type": "code",
   "execution_count": 215,
   "id": "204e77d1",
   "metadata": {},
   "outputs": [
    {
     "data": {
      "text/plain": [
       "dict_keys(['data', 'target', 'frame', 'feature_names', 'target_names', 'images', 'DESCR'])"
      ]
     },
     "execution_count": 215,
     "metadata": {},
     "output_type": "execute_result"
    }
   ],
   "source": [
    "digits.keys()"
   ]
  },
  {
   "cell_type": "code",
   "execution_count": 216,
   "id": "71e339e2",
   "metadata": {},
   "outputs": [
    {
     "data": {
      "text/plain": [
       "array([[[ 0.,  0.,  5., ...,  1.,  0.,  0.],\n",
       "        [ 0.,  0., 13., ..., 15.,  5.,  0.],\n",
       "        [ 0.,  3., 15., ..., 11.,  8.,  0.],\n",
       "        ...,\n",
       "        [ 0.,  4., 11., ..., 12.,  7.,  0.],\n",
       "        [ 0.,  2., 14., ..., 12.,  0.,  0.],\n",
       "        [ 0.,  0.,  6., ...,  0.,  0.,  0.]],\n",
       "\n",
       "       [[ 0.,  0.,  0., ...,  5.,  0.,  0.],\n",
       "        [ 0.,  0.,  0., ...,  9.,  0.,  0.],\n",
       "        [ 0.,  0.,  3., ...,  6.,  0.,  0.],\n",
       "        ...,\n",
       "        [ 0.,  0.,  1., ...,  6.,  0.,  0.],\n",
       "        [ 0.,  0.,  1., ...,  6.,  0.,  0.],\n",
       "        [ 0.,  0.,  0., ..., 10.,  0.,  0.]],\n",
       "\n",
       "       [[ 0.,  0.,  0., ..., 12.,  0.,  0.],\n",
       "        [ 0.,  0.,  3., ..., 14.,  0.,  0.],\n",
       "        [ 0.,  0.,  8., ..., 16.,  0.,  0.],\n",
       "        ...,\n",
       "        [ 0.,  9., 16., ...,  0.,  0.,  0.],\n",
       "        [ 0.,  3., 13., ..., 11.,  5.,  0.],\n",
       "        [ 0.,  0.,  0., ..., 16.,  9.,  0.]],\n",
       "\n",
       "       ...,\n",
       "\n",
       "       [[ 0.,  0.,  1., ...,  1.,  0.,  0.],\n",
       "        [ 0.,  0., 13., ...,  2.,  1.,  0.],\n",
       "        [ 0.,  0., 16., ..., 16.,  5.,  0.],\n",
       "        ...,\n",
       "        [ 0.,  0., 16., ..., 15.,  0.,  0.],\n",
       "        [ 0.,  0., 15., ..., 16.,  0.,  0.],\n",
       "        [ 0.,  0.,  2., ...,  6.,  0.,  0.]],\n",
       "\n",
       "       [[ 0.,  0.,  2., ...,  0.,  0.,  0.],\n",
       "        [ 0.,  0., 14., ..., 15.,  1.,  0.],\n",
       "        [ 0.,  4., 16., ..., 16.,  7.,  0.],\n",
       "        ...,\n",
       "        [ 0.,  0.,  0., ..., 16.,  2.,  0.],\n",
       "        [ 0.,  0.,  4., ..., 16.,  2.,  0.],\n",
       "        [ 0.,  0.,  5., ..., 12.,  0.,  0.]],\n",
       "\n",
       "       [[ 0.,  0., 10., ...,  1.,  0.,  0.],\n",
       "        [ 0.,  2., 16., ...,  1.,  0.,  0.],\n",
       "        [ 0.,  0., 15., ..., 15.,  0.,  0.],\n",
       "        ...,\n",
       "        [ 0.,  4., 16., ..., 16.,  6.,  0.],\n",
       "        [ 0.,  8., 16., ..., 16.,  8.,  0.],\n",
       "        [ 0.,  1.,  8., ..., 12.,  1.,  0.]]])"
      ]
     },
     "execution_count": 216,
     "metadata": {},
     "output_type": "execute_result"
    }
   ],
   "source": [
    "digits.images"
   ]
  },
  {
   "cell_type": "markdown",
   "id": "daa10906",
   "metadata": {},
   "source": [
    "## Generating axes and visualising images"
   ]
  },
  {
   "cell_type": "code",
   "execution_count": 217,
   "id": "9e258fc9",
   "metadata": {},
   "outputs": [
    {
     "data": {
      "image/png": "[encoded data removed]",
      "text/plain": [
       "<Figure size 720x288 with 10 Axes>"
      ]
     },
     "metadata": {
      "needs_background": "light"
     },
     "output_type": "display_data"
    }
   ],
   "source": [
    "f, axs = plt.subplots(2, 5, figsize=(10, 4))\n",
    "\n",
    "for i, ax in enumerate(axs.flatten()):\n",
    "    ax.imshow(digits.images[i], cmap=matplotlib.cm.binary)\n",
    "    ax.set_title(f\"Number {i}\")\n",
    "plt.savefig(\"NN03_digits.pdf\", bbox_inches='tight')"
   ]
  },
  {
   "cell_type": "markdown",
   "id": "be381e12",
   "metadata": {},
   "source": [
    "## Neural Network via Perceptron"
   ]
  },
  {
   "cell_type": "markdown",
   "id": "bff3dcbd",
   "metadata": {},
   "source": [
    "Perceptron is the simplest form of Neural Network."
   ]
  },
  {
   "cell_type": "code",
   "execution_count": 218,
   "id": "00b85fd6",
   "metadata": {},
   "outputs": [],
   "source": [
    "from sklearn.linear_model import Perceptron\n",
    "\n",
    "# Step 1: Create an instance\n",
    "perceptron = Perceptron()"
   ]
  },
  {
   "cell_type": "code",
   "execution_count": 219,
   "id": "a5b99d99",
   "metadata": {},
   "outputs": [],
   "source": [
    "y = digits.target == 9 # filter only the desired target from the array"
   ]
  },
  {
   "cell_type": "code",
   "execution_count": 220,
   "id": "69b541c6",
   "metadata": {},
   "outputs": [
    {
     "data": {
      "text/plain": [
       "Perceptron()"
      ]
     },
     "execution_count": 220,
     "metadata": {},
     "output_type": "execute_result"
    }
   ],
   "source": [
    "# Step 2: Fit the model\n",
    "perceptron.fit(digits['data'], y)"
   ]
  },
  {
   "cell_type": "code",
   "execution_count": 221,
   "id": "ee65ce7a",
   "metadata": {},
   "outputs": [
    {
     "data": {
      "text/plain": [
       "array([[1613,    4],\n",
       "       [  16,  164]], dtype=int64)"
      ]
     },
     "execution_count": 221,
     "metadata": {},
     "output_type": "execute_result"
    }
   ],
   "source": [
    "# Step 3: Verify the performance of the classification via confusion matrix\n",
    "from sklearn.metrics import confusion_matrix, accuracy_score\n",
    "\n",
    "confusion_matrix(y, perceptron.predict(digits['data']))"
   ]
  },
  {
   "cell_type": "code",
   "execution_count": 222,
   "id": "c36196d6",
   "metadata": {},
   "outputs": [
    {
     "data": {
      "text/plain": [
       "0.9888703394546466"
      ]
     },
     "execution_count": 222,
     "metadata": {},
     "output_type": "execute_result"
    }
   ],
   "source": [
    "# determining accuracy of predictions (ie. proportion of values correctly predicted)\n",
    "accuracy_score(y, perceptron.predict(digits.data)) "
   ]
  },
  {
   "cell_type": "code",
   "execution_count": 223,
   "id": "6601ea26",
   "metadata": {},
   "outputs": [
    {
     "data": {
      "text/plain": [
       "array([[   0.,  -73.,  -60.,   59.,  -37., -166.,  -61.,  -74.,   -3.,\n",
       "          27.,  101.,   27.,   -1.,   27.,   99.,  -78.,   -8.,   65.,\n",
       "          91.,   43.,   23.,  284.,  -17.,  -88.,   -3.,  -98.,   75.,\n",
       "         161.,  -51.,  178.,  -66.,   -8.,    0., -259., -107.,  209.,\n",
       "        -199., -119.,   10.,    0.,    0.,  -31., -335., -551., -258.,\n",
       "         -99.,  -98.,    4.,    0.,   63.,  -36.,  -14.,  -64., -104.,\n",
       "         -29.,   22.,    0.,  -42.,  -90.,  -88.,    5.,  -23.,  -18.,\n",
       "         -15.]])"
      ]
     },
     "execution_count": 223,
     "metadata": {},
     "output_type": "execute_result"
    }
   ],
   "source": [
    "perceptron.coef_ # coef is used to access the weights, w vector assigned to the features"
   ]
  },
  {
   "cell_type": "code",
   "execution_count": 224,
   "id": "8b570041",
   "metadata": {},
   "outputs": [
    {
     "data": {
      "text/plain": [
       "<matplotlib.colorbar.Colorbar at 0x2229ef6b580>"
      ]
     },
     "execution_count": 224,
     "metadata": {},
     "output_type": "execute_result"
    },
    {
     "data": {
      "image/png": "[encoded data removed]",
      "text/plain": [
       "<Figure size 432x288 with 2 Axes>"
      ]
     },
     "metadata": {
      "needs_background": "light"
     },
     "output_type": "display_data"
    }
   ],
   "source": [
    "# plotting weights to see if there is any structure in the data\n",
    "plt.imshow(perceptron.coef_.reshape(8, 8), cmap=matplotlib.cm.binary)\n",
    "plt.colorbar()"
   ]
  },
  {
   "cell_type": "markdown",
   "id": "f36ffb5b",
   "metadata": {},
   "source": [
    "## Linear Combiner"
   ]
  },
  {
   "cell_type": "code",
   "execution_count": 225,
   "id": "d2585720",
   "metadata": {},
   "outputs": [
    {
     "data": {
      "text/plain": [
       "array([-38.])"
      ]
     },
     "execution_count": 225,
     "metadata": {},
     "output_type": "execute_result"
    }
   ],
   "source": [
    "perceptron.intercept_ # bias, bk (intercept)"
   ]
  },
  {
   "cell_type": "code",
   "execution_count": 226,
   "id": "f3a5dbac",
   "metadata": {},
   "outputs": [
    {
     "data": {
      "text/plain": [
       "array([2794.])"
      ]
     },
     "execution_count": 226,
     "metadata": {},
     "output_type": "execute_result"
    }
   ],
   "source": [
    "# calculating vk + bk (linear combiner) - specifically v9 + b9 (linear combiner @ index-9)\n",
    "np.dot(digits['data'][9, :], perceptron.coef_[0]) + perceptron.intercept_"
   ]
  },
  {
   "cell_type": "code",
   "execution_count": 227,
   "id": "694d3fc2",
   "metadata": {},
   "outputs": [
    {
     "data": {
      "text/plain": [
       "array([False, False, False, ..., False, False, False])"
      ]
     },
     "execution_count": 227,
     "metadata": {},
     "output_type": "execute_result"
    }
   ],
   "source": [
    "errors = y != perceptron.predict(digits['data']) # boolean array of true/false vals, compares predicted vs actual\n",
    "errors"
   ]
  },
  {
   "cell_type": "code",
   "execution_count": 228,
   "id": "69aeedd5",
   "metadata": {},
   "outputs": [
    {
     "data": {
      "text/plain": [
       "array([ True,  True,  True,  True,  True,  True,  True,  True,  True,\n",
       "        True, False, False,  True,  True, False, False,  True,  True,\n",
       "        True,  True])"
      ]
     },
     "execution_count": 228,
     "metadata": {},
     "output_type": "execute_result"
    }
   ],
   "source": [
    "y[errors] # selects the incorrectly predicted vals"
   ]
  },
  {
   "cell_type": "code",
   "execution_count": 229,
   "id": "d1b4ceb8",
   "metadata": {},
   "outputs": [
    {
     "data": {
      "text/plain": [
       "array([  37,   69,  275,  325,  329,  361,  491,  555,  677,  751, 1018,\n",
       "       1125, 1186, 1412, 1462, 1514, 1572, 1582, 1658, 1662])"
      ]
     },
     "execution_count": 229,
     "metadata": {},
     "output_type": "execute_result"
    }
   ],
   "source": [
    "np.arange(y.shape[0])[errors] # index of incorrectly predicted values"
   ]
  },
  {
   "cell_type": "code",
   "execution_count": 230,
   "id": "dcb2a3b3",
   "metadata": {},
   "outputs": [
    {
     "data": {
      "text/plain": [
       "Text(0.5, 1.0, 'label 9, prediction [False]')"
      ]
     },
     "execution_count": 230,
     "metadata": {},
     "output_type": "execute_result"
    },
    {
     "data": {
      "image/png": "[encoded data removed]",
      "text/plain": [
       "<Figure size 432x288 with 1 Axes>"
      ]
     },
     "metadata": {
      "needs_background": "light"
     },
     "output_type": "display_data"
    }
   ],
   "source": [
    "plt.imshow(digits.images[275], cmap=matplotlib.cm.binary)\n",
    "y_hat = perceptron.predict(digits['data'][[275], :])\n",
    "plt.title(f\"label {digits.target[275]}, prediction {y_hat}\")"
   ]
  },
  {
   "cell_type": "code",
   "execution_count": 231,
   "id": "531d8501",
   "metadata": {},
   "outputs": [
    {
     "data": {
      "text/plain": [
       "array([False])"
      ]
     },
     "execution_count": 231,
     "metadata": {},
     "output_type": "execute_result"
    }
   ],
   "source": [
    "perceptron.predict(digits.data[[0], :]) # model has learnt to discriminate the value of 9 from other values"
   ]
  },
  {
   "cell_type": "code",
   "execution_count": 232,
   "id": "e6d18602",
   "metadata": {},
   "outputs": [
    {
     "data": {
      "text/plain": [
       "array([ True])"
      ]
     },
     "execution_count": 232,
     "metadata": {},
     "output_type": "execute_result"
    }
   ],
   "source": [
    "perceptron.predict(digits.data[[9], :])"
   ]
  },
  {
   "cell_type": "markdown",
   "id": "1127e3eb",
   "metadata": {},
   "source": [
    "## Probability Estimation"
   ]
  },
  {
   "cell_type": "code",
   "execution_count": 233,
   "id": "e2ab8673",
   "metadata": {},
   "outputs": [],
   "source": [
    "from sklearn.linear_model import LogisticRegression"
   ]
  },
  {
   "cell_type": "code",
   "execution_count": 242,
   "id": "ac1da3de",
   "metadata": {},
   "outputs": [],
   "source": [
    "z = np.dot(digits.data, perceptron.coef_[0]) + perceptron.intercept_"
   ]
  },
  {
   "cell_type": "code",
   "execution_count": 247,
   "id": "6a01f433",
   "metadata": {},
   "outputs": [
    {
     "data": {
      "text/plain": [
       "LogisticRegression()"
      ]
     },
     "execution_count": 247,
     "metadata": {},
     "output_type": "execute_result"
    }
   ],
   "source": [
    "clf = LogisticRegression()\n",
    "clf.fit(z[:, np.newaxis], y)"
   ]
  },
  {
   "cell_type": "code",
   "execution_count": 250,
   "id": "64ee093e",
   "metadata": {},
   "outputs": [
    {
     "data": {
      "text/plain": [
       "array([[9.97320401e-01, 2.67959922e-03],\n",
       "       [9.99999931e-01, 6.94965301e-08],\n",
       "       [9.99999996e-01, 3.68640869e-09],\n",
       "       [9.98912229e-01, 1.08777109e-03],\n",
       "       [1.00000000e+00, 2.44313282e-12],\n",
       "       [4.08378333e-01, 5.91621667e-01],\n",
       "       [1.00000000e+00, 3.52899197e-11],\n",
       "       [9.99997137e-01, 2.86251004e-06],\n",
       "       [9.99981775e-01, 1.82253464e-05],\n",
       "       [9.91147235e-03, 9.90088528e-01]])"
      ]
     },
     "execution_count": 250,
     "metadata": {},
     "output_type": "execute_result"
    }
   ],
   "source": [
    "# as long as its a continuous number w/ some range, you can use logistic regression to map it into probability\n",
    "clf.predict_proba(z[:, np.newaxis])[:10, :]"
   ]
  },
  {
   "cell_type": "markdown",
   "id": "7683f429",
   "metadata": {},
   "source": [
    "## Multiclass problem"
   ]
  },
  {
   "cell_type": "code",
   "execution_count": 251,
   "id": "9e613da0",
   "metadata": {},
   "outputs": [],
   "source": [
    "mcp = Perceptron()"
   ]
  },
  {
   "cell_type": "code",
   "execution_count": 252,
   "id": "87cb7fb4",
   "metadata": {},
   "outputs": [
    {
     "data": {
      "text/plain": [
       "Perceptron()"
      ]
     },
     "execution_count": 252,
     "metadata": {},
     "output_type": "execute_result"
    }
   ],
   "source": [
    "mcp.fit(digits.data, digits.target)"
   ]
  },
  {
   "cell_type": "code",
   "execution_count": 253,
   "id": "7be9b954",
   "metadata": {},
   "outputs": [
    {
     "data": {
      "text/plain": [
       "array([ -5., -52.,  -7., -23.,   4., -12., -17.,  -4., -69., -35.])"
      ]
     },
     "execution_count": 253,
     "metadata": {},
     "output_type": "execute_result"
    }
   ],
   "source": [
    "mcp.intercept_"
   ]
  },
  {
   "cell_type": "code",
   "execution_count": 262,
   "id": "19d2e50a",
   "metadata": {},
   "outputs": [
    {
     "data": {
      "text/plain": [
       "(10, 64)"
      ]
     },
     "execution_count": 262,
     "metadata": {},
     "output_type": "execute_result"
    }
   ],
   "source": [
    "mcp.coef_.shape # each model has 64 components, which is hard to understand and to see a pattern, so need to project onto 2D space"
   ]
  },
  {
   "cell_type": "code",
   "execution_count": 257,
   "id": "9f3af472",
   "metadata": {},
   "outputs": [],
   "source": [
    "y_hat = mcp.predict(digits.data)"
   ]
  },
  {
   "cell_type": "code",
   "execution_count": 259,
   "id": "9fc59305",
   "metadata": {},
   "outputs": [
    {
     "data": {
      "text/plain": [
       "array([0, 1, 2, 3, 4, 5, 6, 7, 8, 9])"
      ]
     },
     "execution_count": 259,
     "metadata": {},
     "output_type": "execute_result"
    }
   ],
   "source": [
    "np.unique(y_hat)"
   ]
  },
  {
   "cell_type": "code",
   "execution_count": 260,
   "id": "f9adda8b",
   "metadata": {},
   "outputs": [
    {
     "data": {
      "text/plain": [
       "0.9393433500278241"
      ]
     },
     "execution_count": 260,
     "metadata": {},
     "output_type": "execute_result"
    }
   ],
   "source": [
    "accuracy_score(digits.target, y_hat)"
   ]
  },
  {
   "cell_type": "code",
   "execution_count": 261,
   "id": "32bdf877",
   "metadata": {
    "scrolled": true
   },
   "outputs": [
    {
     "data": {
      "text/plain": [
       "array([[178,   0,   0,   0,   0,   0,   0,   0,   0,   0],\n",
       "       [  0, 181,   0,   0,   0,   0,   0,   0,   0,   1],\n",
       "       [  0,   4, 172,   1,   0,   0,   0,   0,   0,   0],\n",
       "       [  0,   1,   2, 178,   0,   0,   0,   2,   0,   0],\n",
       "       [  0,   4,   0,   0, 177,   0,   0,   0,   0,   0],\n",
       "       [  0,   6,   2,   3,   0, 167,   0,   2,   0,   2],\n",
       "       [  1,   5,   0,   0,   1,   0, 174,   0,   0,   0],\n",
       "       [  0,   0,   0,   0,   0,   0,   0, 178,   0,   1],\n",
       "       [  0,  38,   7,   3,   1,   0,   0,   1, 123,   1],\n",
       "       [  0,  10,   1,   3,   0,   1,   0,   5,   0, 160]], dtype=int64)"
      ]
     },
     "execution_count": 261,
     "metadata": {},
     "output_type": "execute_result"
    }
   ],
   "source": [
    "confusion_matrix(digits.target, y_hat) "
   ]
  },
  {
   "cell_type": "markdown",
   "id": "fae38a9a",
   "metadata": {},
   "source": [
    "## PCA Analysis of Model"
   ]
  },
  {
   "cell_type": "markdown",
   "id": "3186c106",
   "metadata": {},
   "source": [
    "each model has 64 components, which is hard to understand and to see a pattern, so need to project onto 2D space hence need to use PCA"
   ]
  },
  {
   "cell_type": "code",
   "execution_count": 268,
   "id": "fb649e72",
   "metadata": {},
   "outputs": [
    {
     "data": {
      "text/plain": [
       "Pipeline(steps=[('standardscaler', StandardScaler()),\n",
       "                ('pca', PCA(n_components=2))])"
      ]
     },
     "execution_count": 268,
     "metadata": {},
     "output_type": "execute_result"
    }
   ],
   "source": [
    "from sklearn.pipeline import make_pipeline\n",
    "from sklearn.preprocessing import StandardScaler\n",
    "from sklearn.decomposition import PCA\n",
    "\n",
    "pca = make_pipeline(StandardScaler(), PCA(n_components=2))\n",
    "pca.fit(mcp.coef_)"
   ]
  },
  {
   "cell_type": "code",
   "execution_count": 269,
   "id": "acf3dd3b",
   "metadata": {},
   "outputs": [],
   "source": [
    "PC = pca.transform(mcp.coef_)"
   ]
  },
  {
   "cell_type": "code",
   "execution_count": 271,
   "id": "40b7ce27",
   "metadata": {},
   "outputs": [
    {
     "data": {
      "text/plain": [
       "dict_keys(['standardscaler', 'pca'])"
      ]
     },
     "execution_count": 271,
     "metadata": {},
     "output_type": "execute_result"
    }
   ],
   "source": [
    "pca.named_steps.keys()"
   ]
  },
  {
   "cell_type": "code",
   "execution_count": 272,
   "id": "9c466645",
   "metadata": {},
   "outputs": [],
   "source": [
    "explained_variance = pca.named_steps['pca'].explained_variance_"
   ]
  },
  {
   "cell_type": "code",
   "execution_count": 274,
   "id": "2898bc1e",
   "metadata": {},
   "outputs": [
    {
     "data": {
      "text/plain": [
       "array([0.55640808, 0.44359192])"
      ]
     },
     "execution_count": 274,
     "metadata": {},
     "output_type": "execute_result"
    }
   ],
   "source": [
    "explained_variance / np.sum(explained_variance)"
   ]
  },
  {
   "cell_type": "code",
   "execution_count": 277,
   "id": "9b950533",
   "metadata": {},
   "outputs": [
    {
     "data": {
      "text/plain": [
       "Text(0.5, 1.0, 'Representation of the coefficients for different models in PCA space ')"
      ]
     },
     "execution_count": 277,
     "metadata": {},
     "output_type": "execute_result"
    },
    {
     "data": {
      "image/png": "[encoded data removed]",
      "text/plain": [
       "<Figure size 432x288 with 1 Axes>"
      ]
     },
     "metadata": {
      "needs_background": "light"
     },
     "output_type": "display_data"
    }
   ],
   "source": [
    "plt.plot(PC[:, 0], PC[:, 1], 'o') \n",
    "for x, y, s in zip(PC[:, 0], PC[:, 1], range(10)):\n",
    "    plt.text(x, y, str(s))\n",
    "\n",
    "plt.title(\"Representation of the coefficients for different models in PCA space \")"
   ]
  },
  {
   "cell_type": "markdown",
   "id": "da16d1b1",
   "metadata": {},
   "source": [
    "The model has learnt something sensible to discriminate most of these features of these digits.\n",
    "\n",
    "We have 10 different models, each of these models has 64 coefficients. \n",
    "The Principal Components try to find the axis in the 64 dimensional space, which describes most of the variation."
   ]
  }
 ],
 "metadata": {
  "kernelspec": {
   "display_name": "Python 3 (ipykernel)",
   "language": "python",
   "name": "python3"
  },
  "language_info": {
   "codemirror_mode": {
    "name": "ipython",
    "version": 3
   },
   "file_extension": ".py",
   "mimetype": "text/x-python",
   "name": "python",
   "nbconvert_exporter": "python",
   "pygments_lexer": "ipython3",
   "version": "3.9.12"
  }
 },
 "nbformat": 4,
 "nbformat_minor": 5
}
