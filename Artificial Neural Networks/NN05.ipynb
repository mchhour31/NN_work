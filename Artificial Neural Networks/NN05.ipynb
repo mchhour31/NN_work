{
 "cells": [
  {
   "cell_type": "code",
   "execution_count": 88,
   "id": "43f8156b",
   "metadata": {},
   "outputs": [
    {
     "name": "stdout",
     "output_type": "stream",
     "text": [
      "The autoreload extension is already loaded. To reload it, use:\n",
      "  %reload_ext autoreload\n"
     ]
    }
   ],
   "source": [
    "import numpy as np\n",
    "import pandas as pd\n",
    "\n",
    "import matplotlib\n",
    "import matplotlib.pyplot as plt\n",
    "\n",
    "%matplotlib inline\n",
    "%load_ext autoreload\n",
    "%autoreload 2"
   ]
  },
  {
   "cell_type": "markdown",
   "id": "8facf970",
   "metadata": {},
   "source": [
    "## AND"
   ]
  },
  {
   "cell_type": "code",
   "execution_count": 90,
   "id": "36b61d8e",
   "metadata": {},
   "outputs": [],
   "source": [
    "x_and = np.array([[0, 0], [0, 1], [1, 0], [1, 1]])\n",
    "y_and = np.array([0,0,0,1])"
   ]
  },
  {
   "cell_type": "code",
   "execution_count": 91,
   "id": "0c5d8596",
   "metadata": {},
   "outputs": [
    {
     "data": {
      "text/plain": [
       "Perceptron()"
      ]
     },
     "execution_count": 91,
     "metadata": {},
     "output_type": "execute_result"
    }
   ],
   "source": [
    "from sklearn.linear_model import Perceptron\n",
    "\n",
    "perceptron = Perceptron()\n",
    "perceptron.fit(x_and, y_and)"
   ]
  },
  {
   "cell_type": "code",
   "execution_count": 92,
   "id": "a6876ee2",
   "metadata": {},
   "outputs": [
    {
     "data": {
      "text/plain": [
       "array([0, 0, 0, 1])"
      ]
     },
     "execution_count": 92,
     "metadata": {},
     "output_type": "execute_result"
    }
   ],
   "source": [
    "perceptron.predict(x_and)"
   ]
  },
  {
   "cell_type": "markdown",
   "id": "b00e644d",
   "metadata": {},
   "source": [
    "## XOR"
   ]
  },
  {
   "cell_type": "code",
   "execution_count": 93,
   "id": "143167b4",
   "metadata": {},
   "outputs": [],
   "source": [
    "x_xor = np.array([[0, 0], [0, 1], [1, 0], [1, 1]])\n",
    "y_xor = np.array([0,1,1,0])"
   ]
  },
  {
   "cell_type": "code",
   "execution_count": 94,
   "id": "9e8827ad",
   "metadata": {},
   "outputs": [
    {
     "data": {
      "text/plain": [
       "Perceptron()"
      ]
     },
     "execution_count": 94,
     "metadata": {},
     "output_type": "execute_result"
    }
   ],
   "source": [
    "perceptron.fit(x_xor, y_xor)"
   ]
  },
  {
   "cell_type": "code",
   "execution_count": 95,
   "id": "ee31615e",
   "metadata": {},
   "outputs": [
    {
     "data": {
      "text/plain": [
       "array([0, 0, 0, 0])"
      ]
     },
     "execution_count": 95,
     "metadata": {},
     "output_type": "execute_result"
    }
   ],
   "source": [
    "perceptron.predict(x_xor)"
   ]
  },
  {
   "cell_type": "code",
   "execution_count": 96,
   "id": "89668524",
   "metadata": {},
   "outputs": [],
   "source": [
    "from sklearn.neural_network import MLPClassifier"
   ]
  },
  {
   "cell_type": "code",
   "execution_count": 97,
   "id": "2651c78d",
   "metadata": {},
   "outputs": [],
   "source": [
    "mlp = MLPClassifier(hidden_layer_sizes=(2,), activation='tanh')"
   ]
  },
  {
   "cell_type": "code",
   "execution_count": 98,
   "id": "9813e676",
   "metadata": {},
   "outputs": [
    {
     "name": "stderr",
     "output_type": "stream",
     "text": [
      "C:\\Users\\Bane6\\anaconda3\\lib\\site-packages\\sklearn\\neural_network\\_multilayer_perceptron.py:692: ConvergenceWarning: Stochastic Optimizer: Maximum iterations (200) reached and the optimization hasn't converged yet.\n",
      "  warnings.warn(\n"
     ]
    },
    {
     "data": {
      "text/plain": [
       "MLPClassifier(activation='tanh', hidden_layer_sizes=(2,))"
      ]
     },
     "execution_count": 98,
     "metadata": {},
     "output_type": "execute_result"
    }
   ],
   "source": [
    "mlp.fit(x_xor, y_xor)"
   ]
  },
  {
   "cell_type": "code",
   "execution_count": 99,
   "id": "24de18c3",
   "metadata": {},
   "outputs": [
    {
     "data": {
      "text/plain": [
       "array([0, 0, 0, 0])"
      ]
     },
     "execution_count": 99,
     "metadata": {},
     "output_type": "execute_result"
    }
   ],
   "source": [
    "mlp.predict(x_xor)"
   ]
  },
  {
   "cell_type": "code",
   "execution_count": 100,
   "id": "8959b1f7",
   "metadata": {},
   "outputs": [
    {
     "data": {
      "text/plain": [
       "[array([[-0.20110551, -0.70073067],\n",
       "        [ 0.8912022 , -0.97302715]]),\n",
       " array([[-0.89128213],\n",
       "        [-0.29164978]])]"
      ]
     },
     "execution_count": 100,
     "metadata": {},
     "output_type": "execute_result"
    }
   ],
   "source": [
    "mlp.coefs_"
   ]
  },
  {
   "cell_type": "code",
   "execution_count": 101,
   "id": "8f43f6e4",
   "metadata": {},
   "outputs": [
    {
     "data": {
      "text/plain": [
       "[array([-1.22003346, -0.24801948]), array([-1.00895048])]"
      ]
     },
     "execution_count": 101,
     "metadata": {},
     "output_type": "execute_result"
    }
   ],
   "source": [
    "mlp.intercepts_"
   ]
  },
  {
   "cell_type": "markdown",
   "id": "e0fcf44e",
   "metadata": {},
   "source": [
    "*How can we adapt our model to work with more complex problems?* Add more hidden layers\n",
    "\n",
    "Adding more layers may not guarantee solution will converge, so need to add more iterations aswell\n",
    "\n",
    "Default number of iterations is 1000; increasing # of iterations by a factor of 10"
   ]
  },
  {
   "cell_type": "code",
   "execution_count": 102,
   "id": "8f2fec79",
   "metadata": {},
   "outputs": [],
   "source": [
    "mlp = MLPClassifier(hidden_layer_sizes=(5, 2,), activation='tanh', max_iter = 10000)"
   ]
  },
  {
   "cell_type": "code",
   "execution_count": 103,
   "id": "67e7c618",
   "metadata": {},
   "outputs": [
    {
     "data": {
      "text/plain": [
       "MLPClassifier(activation='tanh', hidden_layer_sizes=(5, 2), max_iter=10000)"
      ]
     },
     "execution_count": 103,
     "metadata": {},
     "output_type": "execute_result"
    }
   ],
   "source": [
    "mlp.fit(x_xor, y_xor)"
   ]
  },
  {
   "cell_type": "code",
   "execution_count": 104,
   "id": "79b63637",
   "metadata": {},
   "outputs": [
    {
     "data": {
      "text/plain": [
       "array([0, 1, 1, 0])"
      ]
     },
     "execution_count": 104,
     "metadata": {},
     "output_type": "execute_result"
    }
   ],
   "source": [
    "mlp.predict(x_xor)"
   ]
  },
  {
   "cell_type": "code",
   "execution_count": 105,
   "id": "383981a0",
   "metadata": {},
   "outputs": [
    {
     "data": {
      "text/plain": [
       "[array([[-1.84875463, -0.47250396,  1.91108527,  1.56600908,  1.52185464],\n",
       "        [ 1.82263773, -0.20830065, -1.23306006,  0.9354156 , -1.34999019]]),\n",
       " array([[ 1.29080671, -0.74708862],\n",
       "        [-0.40653286,  0.05651214],\n",
       "        [-0.94731681,  1.2893811 ],\n",
       "        [ 1.08625059, -0.4960965 ],\n",
       "        [ 1.99953728, -1.76800957]]),\n",
       " array([[ 1.72448396],\n",
       "        [-1.96839279]])]"
      ]
     },
     "execution_count": 105,
     "metadata": {},
     "output_type": "execute_result"
    }
   ],
   "source": [
    "mlp.coefs_"
   ]
  },
  {
   "cell_type": "code",
   "execution_count": 106,
   "id": "cc0d950c",
   "metadata": {},
   "outputs": [
    {
     "data": {
      "text/plain": [
       "[array([-1.19048722, -1.13547918,  0.66368345,  0.21716316, -0.84866056]),\n",
       " array([ 0.70381436, -1.27284569]),\n",
       " array([0.01601544])]"
      ]
     },
     "execution_count": 106,
     "metadata": {},
     "output_type": "execute_result"
    }
   ],
   "source": [
    "mlp.intercepts_"
   ]
  },
  {
   "cell_type": "markdown",
   "id": "5095db34",
   "metadata": {},
   "source": [
    "Now, how can we simplify the MLP model? (ie. basic input values, model overly too complex, simplify the algo)\n",
    "\n",
    "We can use **scaling**, scale via standardization so that the input values have a mean=0 and sd=1\n",
    "\n",
    "In this example, our input values are in the range from 0 to 1 so scaling wouldn't have much effect"
   ]
  },
  {
   "cell_type": "markdown",
   "id": "e70dc74f",
   "metadata": {},
   "source": [
    "**StandardScalar** is used to standardize features by removing the mean and scaling to unit variance. \n",
    "\n",
    "If the values of the features are close to each other, there are more chances for the algorithm to get trained well and faster compared to when the features have high differences to each other will take more time to understand the data and the accuracy will be lower.\n",
    "\n",
    "So in the case when data points happen to be far away from each other, scaling is a technique used to make data points closer to each other (ie. making data points generalised so that the distance between them is lower)\n",
    "\n",
    "Larger differences between data points in the input variables increase uncertainty in the results of the model.\n",
    "\n",
    "ML models are sensitive when the data is not scaled.\n",
    "\n",
    "Algorithms that can be used to scale the data:\n",
    "1. **Data Normalization using MinMaxScalar()**\n",
    "2. **Data Standardization using StandardScalar()**\n",
    "\n",
    "**1. Data Normalization using MinMaxScalar()**\n",
    "\n",
    "Scaling technique used so that **data points are shifted and scaled to be within the range of 0 to 1**, so that data points are closer together.\n",
    "\n",
    "*When to use Normalization?* An algorithm that doesn't follow the Gaussian distribution or doesn't count on the distribution of the data itself like KNN and K-means.\n",
    "\n",
    "**2. Data Standardization using StandardScalar()**\n",
    "\n",
    "Makes data points centered about the mean of all the data points presented in the feature w/ unit standard deviation. This means **mean=0 and sd=1**.\n",
    "\n",
    "*When to use Standardization?* Data follows the Gaussian distribution (known as the Normal distribution)\n",
    "\n",
    "Therefore, we need to standardize the dataset so that features with higher than normal values don't start dominating the dataset and increase the uncertainty in the results of our model, and therefore invalidating the results of our data and the interpretation of it. "
   ]
  },
  {
   "cell_type": "markdown",
   "id": "8fddc4f7",
   "metadata": {},
   "source": [
    "In order to make our results reproducible, we need to set a random_state (similar to `set.seed()` in R)"
   ]
  },
  {
   "cell_type": "code",
   "execution_count": 117,
   "id": "7c93ddaa",
   "metadata": {},
   "outputs": [],
   "source": [
    "from sklearn.preprocessing import StandardScaler\n",
    "from sklearn.pipeline import make_pipeline\n",
    "\n",
    "clf = make_pipeline(StandardScaler(), MLPClassifier(hidden_layer_sizes=(2,), max_iter=10000, random_state=102))"
   ]
  },
  {
   "cell_type": "code",
   "execution_count": 118,
   "id": "ced1df75",
   "metadata": {},
   "outputs": [
    {
     "data": {
      "text/plain": [
       "Pipeline(steps=[('standardscaler', StandardScaler()),\n",
       "                ('mlpclassifier',\n",
       "                 MLPClassifier(hidden_layer_sizes=(2,), max_iter=10000,\n",
       "                               random_state=102))])"
      ]
     },
     "execution_count": 118,
     "metadata": {},
     "output_type": "execute_result"
    }
   ],
   "source": [
    "clf.fit(x_xor, y_xor)"
   ]
  },
  {
   "cell_type": "code",
   "execution_count": 119,
   "id": "ec581611",
   "metadata": {},
   "outputs": [
    {
     "data": {
      "text/plain": [
       "array([0, 1, 1, 0])"
      ]
     },
     "execution_count": 119,
     "metadata": {},
     "output_type": "execute_result"
    }
   ],
   "source": [
    "clf.predict(x_xor)"
   ]
  },
  {
   "cell_type": "markdown",
   "id": "cf15b038",
   "metadata": {},
   "source": [
    "1. Working with ANN, lots of parameters will be changed on the regular and at different times, so we need a way of documenting our process, what we have done and what parameters have changed, so that way we're not repeating experiments. \n",
    "2. We need to have a good understanding of all the different parameters and coefficients of the classifier"
   ]
  },
  {
   "cell_type": "code",
   "execution_count": 121,
   "id": "9907fb23",
   "metadata": {},
   "outputs": [],
   "source": [
    "MLPClassifier?"
   ]
  },
  {
   "cell_type": "markdown",
   "id": "50a7344b",
   "metadata": {},
   "source": [
    "## Simple Robust Approach"
   ]
  },
  {
   "cell_type": "markdown",
   "id": "7572fedd",
   "metadata": {},
   "source": [
    "Can check all the functions inside a module by first importing, then doing something like so `sklearn.tree.*?`"
   ]
  },
  {
   "cell_type": "code",
   "execution_count": 125,
   "id": "efa6f352",
   "metadata": {},
   "outputs": [
    {
     "data": {
      "text/plain": [
       "DecisionTreeClassifier()"
      ]
     },
     "execution_count": 125,
     "metadata": {},
     "output_type": "execute_result"
    }
   ],
   "source": [
    "from sklearn.tree import DecisionTreeClassifier\n",
    "\n",
    "clf = DecisionTreeClassifier()\n",
    "clf.fit(x_xor, y_xor)"
   ]
  },
  {
   "cell_type": "code",
   "execution_count": 123,
   "id": "202f6339",
   "metadata": {},
   "outputs": [
    {
     "data": {
      "text/plain": [
       "array([0, 1, 1, 0])"
      ]
     },
     "execution_count": 123,
     "metadata": {},
     "output_type": "execute_result"
    }
   ],
   "source": [
    "clf.predict(x_xor)"
   ]
  },
  {
   "cell_type": "markdown",
   "id": "0243d34b",
   "metadata": {},
   "source": [
    "*In favour of using simpler solutions (ie. decision tree > MLP) if a problem calls for it*"
   ]
  },
  {
   "cell_type": "code",
   "execution_count": 132,
   "id": "41ff815a",
   "metadata": {},
   "outputs": [
    {
     "data": {
      "text/plain": [
       "[Text(0.5, 0.8333333333333334, 'X[1] <= 0.5\\ngini = 0.5\\nsamples = 4\\nvalue = [2, 2]'),\n",
       " Text(0.25, 0.5, 'X[0] <= 0.5\\ngini = 0.5\\nsamples = 2\\nvalue = [1, 1]'),\n",
       " Text(0.125, 0.16666666666666666, 'gini = 0.0\\nsamples = 1\\nvalue = [1, 0]'),\n",
       " Text(0.375, 0.16666666666666666, 'gini = 0.0\\nsamples = 1\\nvalue = [0, 1]'),\n",
       " Text(0.75, 0.5, 'X[0] <= 0.5\\ngini = 0.5\\nsamples = 2\\nvalue = [1, 1]'),\n",
       " Text(0.625, 0.16666666666666666, 'gini = 0.0\\nsamples = 1\\nvalue = [0, 1]'),\n",
       " Text(0.875, 0.16666666666666666, 'gini = 0.0\\nsamples = 1\\nvalue = [1, 0]')]"
      ]
     },
     "execution_count": 132,
     "metadata": {},
     "output_type": "execute_result"
    },
    {
     "data": {
      "image/png": "[encoded data removed]",
      "text/plain": [
       "<Figure size 432x288 with 1 Axes>"
      ]
     },
     "metadata": {
      "needs_background": "light"
     },
     "output_type": "display_data"
    }
   ],
   "source": [
    "from sklearn.tree import plot_tree\n",
    "\n",
    "plot_tree(clf)"
   ]
  },
  {
   "cell_type": "code",
   "execution_count": null,
   "id": "c0fbadd7",
   "metadata": {},
   "outputs": [],
   "source": []
  },
  {
   "cell_type": "code",
   "execution_count": null,
   "id": "259e1f32",
   "metadata": {},
   "outputs": [],
   "source": []
  },
  {
   "cell_type": "code",
   "execution_count": null,
   "id": "8f2b3da9",
   "metadata": {},
   "outputs": [],
   "source": []
  },
  {
   "cell_type": "code",
   "execution_count": null,
   "id": "e1ad607c",
   "metadata": {},
   "outputs": [],
   "source": []
  }
 ],
 "metadata": {
  "kernelspec": {
   "display_name": "Python 3 (ipykernel)",
   "language": "python",
   "name": "python3"
  },
  "language_info": {
   "codemirror_mode": {
    "name": "ipython",
    "version": 3
   },
   "file_extension": ".py",
   "mimetype": "text/x-python",
   "name": "python",
   "nbconvert_exporter": "python",
   "pygments_lexer": "ipython3",
   "version": "3.9.12"
  }
 },
 "nbformat": 4,
 "nbformat_minor": 5
}
