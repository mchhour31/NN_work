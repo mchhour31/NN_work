{
 "cells": [
  {
   "cell_type": "code",
   "execution_count": 6,
   "id": "95def740",
   "metadata": {},
   "outputs": [],
   "source": [
    "import numpy as np\n",
    "import pandas as pd\n",
    "import matplotlib.pyplot as plt\n",
    "import seaborn as sns\n",
    "sns.set()\n",
    "\n",
    "%matplotlib inline\n",
    "%reload_ext autoreload\n",
    "%autoreload"
   ]
  },
  {
   "cell_type": "code",
   "execution_count": 9,
   "id": "a5015c17",
   "metadata": {},
   "outputs": [],
   "source": [
    "# loading in robot dataset\n",
    "import tsfresh.examples.robot_execution_failures as robot\n",
    "robot.download_robot_execution_failures()"
   ]
  },
  {
   "cell_type": "code",
   "execution_count": 11,
   "id": "7d369331",
   "metadata": {},
   "outputs": [
    {
     "data": {
      "text/plain": [
       "'C:\\\\Users\\\\Bane6\\\\anaconda3\\\\envs\\\\dslab\\\\lib\\\\site-packages\\\\tsfresh\\\\examples\\\\data\\\\robotfailure-mld\\\\lp1.data'"
      ]
     },
     "execution_count": 11,
     "metadata": {},
     "output_type": "execute_result"
    }
   ],
   "source": [
    "import os\n",
    "robot.data_file_name # provides functions to work with directories"
   ]
  },
  {
   "cell_type": "code",
   "execution_count": 13,
   "id": "8dd7a118",
   "metadata": {},
   "outputs": [],
   "source": [
    "ts, label = robot.load_robot_execution_failures() # separating into input signals and associated labels"
   ]
  },
  {
   "cell_type": "code",
   "execution_count": 27,
   "id": "7c3a4140",
   "metadata": {},
   "outputs": [
    {
     "data": {
      "text/plain": [
       "(      id  time  F_x  F_y  F_z  T_x  T_y  T_z\n",
       " 0      1     0   -1   -1   63   -3   -1    0\n",
       " 1      1     1    0    0   62   -3   -1    0\n",
       " 2      1     2   -1   -1   61   -3    0    0\n",
       " 3      1     3   -1   -1   63   -2   -1    0\n",
       " 4      1     4   -1   -1   63   -3   -1    0\n",
       " ...   ..   ...  ...  ...  ...  ...  ...  ...\n",
       " 1315  88    10  -10    2   39  -21  -24    5\n",
       " 1316  88    11  -11    2   38  -24  -22    6\n",
       " 1317  88    12  -12    3   23  -24  -24    5\n",
       " 1318  88    13  -13    4   26  -29  -27    5\n",
       " 1319  88    14  -13    2   15  -25  -25    6\n",
       " \n",
       " [1320 rows x 8 columns],\n",
       " 1      True\n",
       " 2      True\n",
       " 3      True\n",
       " 4      True\n",
       " 5      True\n",
       "       ...  \n",
       " 84    False\n",
       " 85    False\n",
       " 86    False\n",
       " 87    False\n",
       " 88    False\n",
       " Length: 88, dtype: bool)"
      ]
     },
     "execution_count": 27,
     "metadata": {},
     "output_type": "execute_result"
    }
   ],
   "source": [
    "robot.load_robot_execution_failures()"
   ]
  },
  {
   "cell_type": "code",
   "execution_count": 14,
   "id": "54e1c52c",
   "metadata": {},
   "outputs": [
    {
     "data": {
      "text/html": [
       "<div>\n",
       "<style scoped>\n",
       "    .dataframe tbody tr th:only-of-type {\n",
       "        vertical-align: middle;\n",
       "    }\n",
       "\n",
       "    .dataframe tbody tr th {\n",
       "        vertical-align: top;\n",
       "    }\n",
       "\n",
       "    .dataframe thead th {\n",
       "        text-align: right;\n",
       "    }\n",
       "</style>\n",
       "<table border=\"1\" class=\"dataframe\">\n",
       "  <thead>\n",
       "    <tr style=\"text-align: right;\">\n",
       "      <th></th>\n",
       "      <th>id</th>\n",
       "      <th>time</th>\n",
       "      <th>F_x</th>\n",
       "      <th>F_y</th>\n",
       "      <th>F_z</th>\n",
       "      <th>T_x</th>\n",
       "      <th>T_y</th>\n",
       "      <th>T_z</th>\n",
       "    </tr>\n",
       "  </thead>\n",
       "  <tbody>\n",
       "    <tr>\n",
       "      <th>0</th>\n",
       "      <td>1</td>\n",
       "      <td>0</td>\n",
       "      <td>-1</td>\n",
       "      <td>-1</td>\n",
       "      <td>63</td>\n",
       "      <td>-3</td>\n",
       "      <td>-1</td>\n",
       "      <td>0</td>\n",
       "    </tr>\n",
       "    <tr>\n",
       "      <th>1</th>\n",
       "      <td>1</td>\n",
       "      <td>1</td>\n",
       "      <td>0</td>\n",
       "      <td>0</td>\n",
       "      <td>62</td>\n",
       "      <td>-3</td>\n",
       "      <td>-1</td>\n",
       "      <td>0</td>\n",
       "    </tr>\n",
       "    <tr>\n",
       "      <th>2</th>\n",
       "      <td>1</td>\n",
       "      <td>2</td>\n",
       "      <td>-1</td>\n",
       "      <td>-1</td>\n",
       "      <td>61</td>\n",
       "      <td>-3</td>\n",
       "      <td>0</td>\n",
       "      <td>0</td>\n",
       "    </tr>\n",
       "    <tr>\n",
       "      <th>3</th>\n",
       "      <td>1</td>\n",
       "      <td>3</td>\n",
       "      <td>-1</td>\n",
       "      <td>-1</td>\n",
       "      <td>63</td>\n",
       "      <td>-2</td>\n",
       "      <td>-1</td>\n",
       "      <td>0</td>\n",
       "    </tr>\n",
       "    <tr>\n",
       "      <th>4</th>\n",
       "      <td>1</td>\n",
       "      <td>4</td>\n",
       "      <td>-1</td>\n",
       "      <td>-1</td>\n",
       "      <td>63</td>\n",
       "      <td>-3</td>\n",
       "      <td>-1</td>\n",
       "      <td>0</td>\n",
       "    </tr>\n",
       "    <tr>\n",
       "      <th>...</th>\n",
       "      <td>...</td>\n",
       "      <td>...</td>\n",
       "      <td>...</td>\n",
       "      <td>...</td>\n",
       "      <td>...</td>\n",
       "      <td>...</td>\n",
       "      <td>...</td>\n",
       "      <td>...</td>\n",
       "    </tr>\n",
       "    <tr>\n",
       "      <th>1315</th>\n",
       "      <td>88</td>\n",
       "      <td>10</td>\n",
       "      <td>-10</td>\n",
       "      <td>2</td>\n",
       "      <td>39</td>\n",
       "      <td>-21</td>\n",
       "      <td>-24</td>\n",
       "      <td>5</td>\n",
       "    </tr>\n",
       "    <tr>\n",
       "      <th>1316</th>\n",
       "      <td>88</td>\n",
       "      <td>11</td>\n",
       "      <td>-11</td>\n",
       "      <td>2</td>\n",
       "      <td>38</td>\n",
       "      <td>-24</td>\n",
       "      <td>-22</td>\n",
       "      <td>6</td>\n",
       "    </tr>\n",
       "    <tr>\n",
       "      <th>1317</th>\n",
       "      <td>88</td>\n",
       "      <td>12</td>\n",
       "      <td>-12</td>\n",
       "      <td>3</td>\n",
       "      <td>23</td>\n",
       "      <td>-24</td>\n",
       "      <td>-24</td>\n",
       "      <td>5</td>\n",
       "    </tr>\n",
       "    <tr>\n",
       "      <th>1318</th>\n",
       "      <td>88</td>\n",
       "      <td>13</td>\n",
       "      <td>-13</td>\n",
       "      <td>4</td>\n",
       "      <td>26</td>\n",
       "      <td>-29</td>\n",
       "      <td>-27</td>\n",
       "      <td>5</td>\n",
       "    </tr>\n",
       "    <tr>\n",
       "      <th>1319</th>\n",
       "      <td>88</td>\n",
       "      <td>14</td>\n",
       "      <td>-13</td>\n",
       "      <td>2</td>\n",
       "      <td>15</td>\n",
       "      <td>-25</td>\n",
       "      <td>-25</td>\n",
       "      <td>6</td>\n",
       "    </tr>\n",
       "  </tbody>\n",
       "</table>\n",
       "<p>1320 rows × 8 columns</p>\n",
       "</div>"
      ],
      "text/plain": [
       "      id  time  F_x  F_y  F_z  T_x  T_y  T_z\n",
       "0      1     0   -1   -1   63   -3   -1    0\n",
       "1      1     1    0    0   62   -3   -1    0\n",
       "2      1     2   -1   -1   61   -3    0    0\n",
       "3      1     3   -1   -1   63   -2   -1    0\n",
       "4      1     4   -1   -1   63   -3   -1    0\n",
       "...   ..   ...  ...  ...  ...  ...  ...  ...\n",
       "1315  88    10  -10    2   39  -21  -24    5\n",
       "1316  88    11  -11    2   38  -24  -22    6\n",
       "1317  88    12  -12    3   23  -24  -24    5\n",
       "1318  88    13  -13    4   26  -29  -27    5\n",
       "1319  88    14  -13    2   15  -25  -25    6\n",
       "\n",
       "[1320 rows x 8 columns]"
      ]
     },
     "execution_count": 14,
     "metadata": {},
     "output_type": "execute_result"
    }
   ],
   "source": [
    "ts # input time series signals"
   ]
  },
  {
   "cell_type": "code",
   "execution_count": 15,
   "id": "755bd60e",
   "metadata": {
    "scrolled": true
   },
   "outputs": [
    {
     "data": {
      "text/plain": [
       "1      True\n",
       "2      True\n",
       "3      True\n",
       "4      True\n",
       "5      True\n",
       "      ...  \n",
       "84    False\n",
       "85    False\n",
       "86    False\n",
       "87    False\n",
       "88    False\n",
       "Length: 88, dtype: bool"
      ]
     },
     "execution_count": 15,
     "metadata": {},
     "output_type": "execute_result"
    }
   ],
   "source": [
    "label # associated input labels"
   ]
  },
  {
   "cell_type": "code",
   "execution_count": 23,
   "id": "e292429f",
   "metadata": {},
   "outputs": [
    {
     "name": "stderr",
     "output_type": "stream",
     "text": [
      "Feature Extraction: 100%|██████████████████████████████████████████████████████████████| 20/20 [00:15<00:00,  1.29it/s]\n"
     ]
    }
   ],
   "source": [
    "from tsfresh import extract_features\n",
    "\n",
    "X = extract_features(ts, column_id='id', column_sort='time')"
   ]
  },
  {
   "cell_type": "code",
   "execution_count": 29,
   "id": "c30a68c3",
   "metadata": {},
   "outputs": [
    {
     "data": {
      "text/plain": [
       "F_x__variance_larger_than_standard_deviation              0\n",
       "F_x__has_duplicate_max                                    0\n",
       "F_x__has_duplicate_min                                    0\n",
       "F_x__has_duplicate                                        0\n",
       "F_x__sum_values                                           0\n",
       "                                                         ..\n",
       "T_z__matrix_profile__feature_\"mean\"__threshold_0.98      88\n",
       "T_z__matrix_profile__feature_\"median\"__threshold_0.98    88\n",
       "T_z__matrix_profile__feature_\"25\"__threshold_0.98        88\n",
       "T_z__matrix_profile__feature_\"75\"__threshold_0.98        88\n",
       "T_z__mean_n_absolute_max__number_of_maxima_7              0\n",
       "Length: 4734, dtype: int64"
      ]
     },
     "execution_count": 29,
     "metadata": {},
     "output_type": "execute_result"
    }
   ],
   "source": [
    "X.isna().sum() # find missing data, if any present, remove them"
   ]
  },
  {
   "cell_type": "code",
   "execution_count": 35,
   "id": "c46bbd42",
   "metadata": {},
   "outputs": [
    {
     "data": {
      "text/plain": [
       "(88, 2215)"
      ]
     },
     "execution_count": 35,
     "metadata": {},
     "output_type": "execute_result"
    }
   ],
   "source": [
    "Xreal = X.dropna(axis=1) # by default, .dropna() drops all rows (need to define `axis=1` to remove cols)\n",
    "Xreal.shape"
   ]
  },
  {
   "cell_type": "code",
   "execution_count": 36,
   "id": "444e007b",
   "metadata": {},
   "outputs": [],
   "source": [
    "from tsfresh.transformers import FeatureSelector # an obj which has implemented the API of circuit learn\n",
    "\n",
    "select = FeatureSelector() # learning function"
   ]
  },
  {
   "cell_type": "code",
   "execution_count": 38,
   "id": "4e10e30e",
   "metadata": {},
   "outputs": [
    {
     "data": {
      "text/html": [
       "<style>#sk-container-id-2 {color: black;background-color: white;}#sk-container-id-2 pre{padding: 0;}#sk-container-id-2 div.sk-toggleable {background-color: white;}#sk-container-id-2 label.sk-toggleable__label {cursor: pointer;display: block;width: 100%;margin-bottom: 0;padding: 0.3em;box-sizing: border-box;text-align: center;}#sk-container-id-2 label.sk-toggleable__label-arrow:before {content: \"▸\";float: left;margin-right: 0.25em;color: #696969;}#sk-container-id-2 label.sk-toggleable__label-arrow:hover:before {color: black;}#sk-container-id-2 div.sk-estimator:hover label.sk-toggleable__label-arrow:before {color: black;}#sk-container-id-2 div.sk-toggleable__content {max-height: 0;max-width: 0;overflow: hidden;text-align: left;background-color: #f0f8ff;}#sk-container-id-2 div.sk-toggleable__content pre {margin: 0.2em;color: black;border-radius: 0.25em;background-color: #f0f8ff;}#sk-container-id-2 input.sk-toggleable__control:checked~div.sk-toggleable__content {max-height: 200px;max-width: 100%;overflow: auto;}#sk-container-id-2 input.sk-toggleable__control:checked~label.sk-toggleable__label-arrow:before {content: \"▾\";}#sk-container-id-2 div.sk-estimator input.sk-toggleable__control:checked~label.sk-toggleable__label {background-color: #d4ebff;}#sk-container-id-2 div.sk-label input.sk-toggleable__control:checked~label.sk-toggleable__label {background-color: #d4ebff;}#sk-container-id-2 input.sk-hidden--visually {border: 0;clip: rect(1px 1px 1px 1px);clip: rect(1px, 1px, 1px, 1px);height: 1px;margin: -1px;overflow: hidden;padding: 0;position: absolute;width: 1px;}#sk-container-id-2 div.sk-estimator {font-family: monospace;background-color: #f0f8ff;border: 1px dotted black;border-radius: 0.25em;box-sizing: border-box;margin-bottom: 0.5em;}#sk-container-id-2 div.sk-estimator:hover {background-color: #d4ebff;}#sk-container-id-2 div.sk-parallel-item::after {content: \"\";width: 100%;border-bottom: 1px solid gray;flex-grow: 1;}#sk-container-id-2 div.sk-label:hover label.sk-toggleable__label {background-color: #d4ebff;}#sk-container-id-2 div.sk-serial::before {content: \"\";position: absolute;border-left: 1px solid gray;box-sizing: border-box;top: 0;bottom: 0;left: 50%;z-index: 0;}#sk-container-id-2 div.sk-serial {display: flex;flex-direction: column;align-items: center;background-color: white;padding-right: 0.2em;padding-left: 0.2em;position: relative;}#sk-container-id-2 div.sk-item {position: relative;z-index: 1;}#sk-container-id-2 div.sk-parallel {display: flex;align-items: stretch;justify-content: center;background-color: white;position: relative;}#sk-container-id-2 div.sk-item::before, #sk-container-id-2 div.sk-parallel-item::before {content: \"\";position: absolute;border-left: 1px solid gray;box-sizing: border-box;top: 0;bottom: 0;left: 50%;z-index: -1;}#sk-container-id-2 div.sk-parallel-item {display: flex;flex-direction: column;z-index: 1;position: relative;background-color: white;}#sk-container-id-2 div.sk-parallel-item:first-child::after {align-self: flex-end;width: 50%;}#sk-container-id-2 div.sk-parallel-item:last-child::after {align-self: flex-start;width: 50%;}#sk-container-id-2 div.sk-parallel-item:only-child::after {width: 0;}#sk-container-id-2 div.sk-dashed-wrapped {border: 1px dashed gray;margin: 0 0.4em 0.5em 0.4em;box-sizing: border-box;padding-bottom: 0.4em;background-color: white;}#sk-container-id-2 div.sk-label label {font-family: monospace;font-weight: bold;display: inline-block;line-height: 1.2em;}#sk-container-id-2 div.sk-label-container {text-align: center;}#sk-container-id-2 div.sk-container {/* jupyter's `normalize.less` sets `[hidden] { display: none; }` but bootstrap.min.css set `[hidden] { display: none !important; }` so we also need the `!important` here to be able to override the default hidden behavior on the sphinx rendered scikit-learn.org. See: https://github.com/scikit-learn/scikit-learn/issues/21755 */display: inline-block !important;position: relative;}#sk-container-id-2 div.sk-text-repr-fallback {display: none;}</style><div id=\"sk-container-id-2\" class=\"sk-top-container\"><div class=\"sk-text-repr-fallback\"><pre>FeatureSelector()</pre><b>In a Jupyter environment, please rerun this cell to show the HTML representation or trust the notebook. <br />On GitHub, the HTML representation is unable to render, please try loading this page with nbviewer.org.</b></div><div class=\"sk-container\" hidden><div class=\"sk-item\"><div class=\"sk-estimator sk-toggleable\"><input class=\"sk-toggleable__control sk-hidden--visually\" id=\"sk-estimator-id-2\" type=\"checkbox\" checked><label for=\"sk-estimator-id-2\" class=\"sk-toggleable__label sk-toggleable__label-arrow\">FeatureSelector</label><div class=\"sk-toggleable__content\"><pre>FeatureSelector()</pre></div></div></div></div></div>"
      ],
      "text/plain": [
       "FeatureSelector()"
      ]
     },
     "execution_count": 38,
     "metadata": {},
     "output_type": "execute_result"
    }
   ],
   "source": [
    "select.fit(Xreal, label) # the fn has learnt about the statistically significant features for distinguishing these labels"
   ]
  },
  {
   "cell_type": "code",
   "execution_count": 40,
   "id": "7c290b41",
   "metadata": {},
   "outputs": [
    {
     "data": {
      "text/plain": [
       "F_x__value_count__value_-1                                         1.879633e-12\n",
       "F_x__root_mean_square                                              5.900086e-12\n",
       "F_x__abs_energy                                                    5.900086e-12\n",
       "T_y__absolute_maximum                                              5.966395e-12\n",
       "F_x__mean_n_absolute_max__number_of_maxima_7                       6.054628e-12\n",
       "                                                                       ...     \n",
       "T_z__agg_linear_trend__attr_\"stderr\"__chunk_len_10__f_agg_\"var\"             NaN\n",
       "T_z__ratio_beyond_r_sigma__r_5                                              NaN\n",
       "T_z__ratio_beyond_r_sigma__r_6                                              NaN\n",
       "T_z__ratio_beyond_r_sigma__r_7                                              NaN\n",
       "T_z__ratio_beyond_r_sigma__r_10                                             NaN\n",
       "Length: 2215, dtype: float64"
      ]
     },
     "execution_count": 40,
     "metadata": {},
     "output_type": "execute_result"
    }
   ],
   "source": [
    "p_values = pd.Series(select.p_values, index=select.features) # have a look at the statistically sig results\n",
    "p_values"
   ]
  },
  {
   "cell_type": "markdown",
   "id": "bc76b886",
   "metadata": {},
   "source": [
    "Look for the two underscores:\n",
    "- everything before the first set of two underscores is the \"name of the Time Series\" used for calculating the feature\n",
    "- everything after the second set of two underscores is the \"function name\"\n",
    "- everything after the third set of two underscores is the \"parameters\""
   ]
  },
  {
   "cell_type": "markdown",
   "id": "65575028",
   "metadata": {},
   "source": [
    "##  Find a really good feature for discriminating the labels"
   ]
  },
  {
   "cell_type": "code",
   "execution_count": 46,
   "id": "302be868",
   "metadata": {},
   "outputs": [
    {
     "data": {
      "text/plain": [
       "(88, 675)"
      ]
     },
     "execution_count": 46,
     "metadata": {},
     "output_type": "execute_result"
    }
   ],
   "source": [
    "Xreal[select.relevant_features].shape"
   ]
  },
  {
   "cell_type": "code",
   "execution_count": 45,
   "id": "1f2b11fe",
   "metadata": {},
   "outputs": [
    {
     "data": {
      "text/plain": [
       "(88, 675)"
      ]
     },
     "execution_count": 45,
     "metadata": {},
     "output_type": "execute_result"
    }
   ],
   "source": [
    "select.transform(Xreal).shape"
   ]
  },
  {
   "cell_type": "code",
   "execution_count": 50,
   "id": "c9f0a2ab",
   "metadata": {},
   "outputs": [
    {
     "data": {
      "text/plain": [
       "True"
      ]
     },
     "execution_count": 50,
     "metadata": {},
     "output_type": "execute_result"
    }
   ],
   "source": [
    "np.alltrue(Xreal[select.relevant_features] == select.transform(Xreal))"
   ]
  },
  {
   "cell_type": "code",
   "execution_count": null,
   "id": "1c466801",
   "metadata": {},
   "outputs": [],
   "source": []
  },
  {
   "cell_type": "code",
   "execution_count": 43,
   "id": "7c6f075e",
   "metadata": {},
   "outputs": [
    {
     "ename": "TypeError",
     "evalue": "fit() missing 1 required positional argument: 'y'",
     "output_type": "error",
     "traceback": [
      "\u001b[1;31m---------------------------------------------------------------------------\u001b[0m",
      "\u001b[1;31mTypeError\u001b[0m                                 Traceback (most recent call last)",
      "Input \u001b[1;32mIn [43]\u001b[0m, in \u001b[0;36m<cell line: 4>\u001b[1;34m()\u001b[0m\n\u001b[0;32m      1\u001b[0m \u001b[38;5;28;01mfrom\u001b[39;00m \u001b[38;5;21;01msklearn\u001b[39;00m\u001b[38;5;21;01m.\u001b[39;00m\u001b[38;5;21;01mtree\u001b[39;00m \u001b[38;5;28;01mimport\u001b[39;00m DecisionTreeClassifier\n\u001b[0;32m      3\u001b[0m clf \u001b[38;5;241m=\u001b[39m DecisionTreeClassifier()\n\u001b[1;32m----> 4\u001b[0m \u001b[43mclf\u001b[49m\u001b[38;5;241;43m.\u001b[39;49m\u001b[43mfit\u001b[49m\u001b[43m(\u001b[49m\u001b[43mXreal\u001b[49m\u001b[43m,\u001b[49m\u001b[43m \u001b[49m\u001b[43m)\u001b[49m\n",
      "\u001b[1;31mTypeError\u001b[0m: fit() missing 1 required positional argument: 'y'"
     ]
    }
   ],
   "source": [
    "from sklearn.tree import DecisionTreeClassifier\n",
    "\n",
    "clf = DecisionTreeClassifier()\n",
    "clf.fit(Xreal, )"
   ]
  }
 ],
 "metadata": {
  "kernelspec": {
   "display_name": "dslab",
   "language": "python",
   "name": "dslab"
  },
  "language_info": {
   "codemirror_mode": {
    "name": "ipython",
    "version": 3
   },
   "file_extension": ".py",
   "mimetype": "text/x-python",
   "name": "python",
   "nbconvert_exporter": "python",
   "pygments_lexer": "ipython3",
   "version": "3.8.13"
  }
 },
 "nbformat": 4,
 "nbformat_minor": 5
}
