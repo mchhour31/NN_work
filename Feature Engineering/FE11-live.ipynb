{
 "cells": [
  {
   "cell_type": "code",
   "execution_count": 1,
   "id": "39f3c24a",
   "metadata": {},
   "outputs": [],
   "source": [
    "import numpy as np \n",
    "import pandas as pd\n",
    "import matplotlib.pyplot as plt\n",
    "import seaborn as sns\n",
    "sns.set()\n",
    "\n",
    "%matplotlib inline\n",
    "%load_ext autoreload\n",
    "%autoreload "
   ]
  },
  {
   "cell_type": "code",
   "execution_count": 2,
   "id": "ed119b26",
   "metadata": {},
   "outputs": [],
   "source": [
    "import tsfresh.examples.robot_execution_failures as robot\n",
    "\n",
    "robot.download_robot_execution_failures()"
   ]
  },
  {
   "cell_type": "code",
   "execution_count": 5,
   "id": "f493f420",
   "metadata": {},
   "outputs": [
    {
     "data": {
      "text/plain": [
       "'/Users/akem134/opt/anaconda3/envs/dslab/lib/python3.8/site-packages/tsfresh/examples/data/robotfailure-mld/lp1.data'"
      ]
     },
     "execution_count": 5,
     "metadata": {},
     "output_type": "execute_result"
    }
   ],
   "source": [
    "import os\n",
    "robot.data_file_name"
   ]
  },
  {
   "cell_type": "code",
   "execution_count": 6,
   "id": "a7213a85",
   "metadata": {},
   "outputs": [],
   "source": [
    "ts, label = robot.load_robot_execution_failures()"
   ]
  },
  {
   "cell_type": "code",
   "execution_count": 8,
   "id": "f6d69220",
   "metadata": {},
   "outputs": [
    {
     "data": {
      "text/plain": [
       "(1320, 8)"
      ]
     },
     "execution_count": 8,
     "metadata": {},
     "output_type": "execute_result"
    }
   ],
   "source": [
    "ts.shape"
   ]
  },
  {
   "cell_type": "code",
   "execution_count": 10,
   "id": "eb53bb0d",
   "metadata": {},
   "outputs": [
    {
     "data": {
      "text/plain": [
       "(88,)"
      ]
     },
     "execution_count": 10,
     "metadata": {},
     "output_type": "execute_result"
    }
   ],
   "source": [
    "label.shape"
   ]
  },
  {
   "cell_type": "code",
   "execution_count": 12,
   "id": "a98e10d9",
   "metadata": {},
   "outputs": [
    {
     "data": {
      "text/plain": [
       "array([ True, False])"
      ]
     },
     "execution_count": 12,
     "metadata": {},
     "output_type": "execute_result"
    }
   ],
   "source": [
    "label.unique()"
   ]
  },
  {
   "cell_type": "code",
   "execution_count": 13,
   "id": "9bcf26cd",
   "metadata": {},
   "outputs": [
    {
     "data": {
      "text/html": [
       "<div>\n",
       "<style scoped>\n",
       "    .dataframe tbody tr th:only-of-type {\n",
       "        vertical-align: middle;\n",
       "    }\n",
       "\n",
       "    .dataframe tbody tr th {\n",
       "        vertical-align: top;\n",
       "    }\n",
       "\n",
       "    .dataframe thead th {\n",
       "        text-align: right;\n",
       "    }\n",
       "</style>\n",
       "<table border=\"1\" class=\"dataframe\">\n",
       "  <thead>\n",
       "    <tr style=\"text-align: right;\">\n",
       "      <th></th>\n",
       "      <th>id</th>\n",
       "      <th>time</th>\n",
       "      <th>F_x</th>\n",
       "      <th>F_y</th>\n",
       "      <th>F_z</th>\n",
       "      <th>T_x</th>\n",
       "      <th>T_y</th>\n",
       "      <th>T_z</th>\n",
       "    </tr>\n",
       "  </thead>\n",
       "  <tbody>\n",
       "    <tr>\n",
       "      <th>0</th>\n",
       "      <td>1</td>\n",
       "      <td>0</td>\n",
       "      <td>-1</td>\n",
       "      <td>-1</td>\n",
       "      <td>63</td>\n",
       "      <td>-3</td>\n",
       "      <td>-1</td>\n",
       "      <td>0</td>\n",
       "    </tr>\n",
       "    <tr>\n",
       "      <th>1</th>\n",
       "      <td>1</td>\n",
       "      <td>1</td>\n",
       "      <td>0</td>\n",
       "      <td>0</td>\n",
       "      <td>62</td>\n",
       "      <td>-3</td>\n",
       "      <td>-1</td>\n",
       "      <td>0</td>\n",
       "    </tr>\n",
       "    <tr>\n",
       "      <th>2</th>\n",
       "      <td>1</td>\n",
       "      <td>2</td>\n",
       "      <td>-1</td>\n",
       "      <td>-1</td>\n",
       "      <td>61</td>\n",
       "      <td>-3</td>\n",
       "      <td>0</td>\n",
       "      <td>0</td>\n",
       "    </tr>\n",
       "    <tr>\n",
       "      <th>3</th>\n",
       "      <td>1</td>\n",
       "      <td>3</td>\n",
       "      <td>-1</td>\n",
       "      <td>-1</td>\n",
       "      <td>63</td>\n",
       "      <td>-2</td>\n",
       "      <td>-1</td>\n",
       "      <td>0</td>\n",
       "    </tr>\n",
       "    <tr>\n",
       "      <th>4</th>\n",
       "      <td>1</td>\n",
       "      <td>4</td>\n",
       "      <td>-1</td>\n",
       "      <td>-1</td>\n",
       "      <td>63</td>\n",
       "      <td>-3</td>\n",
       "      <td>-1</td>\n",
       "      <td>0</td>\n",
       "    </tr>\n",
       "    <tr>\n",
       "      <th>...</th>\n",
       "      <td>...</td>\n",
       "      <td>...</td>\n",
       "      <td>...</td>\n",
       "      <td>...</td>\n",
       "      <td>...</td>\n",
       "      <td>...</td>\n",
       "      <td>...</td>\n",
       "      <td>...</td>\n",
       "    </tr>\n",
       "    <tr>\n",
       "      <th>1315</th>\n",
       "      <td>88</td>\n",
       "      <td>10</td>\n",
       "      <td>-10</td>\n",
       "      <td>2</td>\n",
       "      <td>39</td>\n",
       "      <td>-21</td>\n",
       "      <td>-24</td>\n",
       "      <td>5</td>\n",
       "    </tr>\n",
       "    <tr>\n",
       "      <th>1316</th>\n",
       "      <td>88</td>\n",
       "      <td>11</td>\n",
       "      <td>-11</td>\n",
       "      <td>2</td>\n",
       "      <td>38</td>\n",
       "      <td>-24</td>\n",
       "      <td>-22</td>\n",
       "      <td>6</td>\n",
       "    </tr>\n",
       "    <tr>\n",
       "      <th>1317</th>\n",
       "      <td>88</td>\n",
       "      <td>12</td>\n",
       "      <td>-12</td>\n",
       "      <td>3</td>\n",
       "      <td>23</td>\n",
       "      <td>-24</td>\n",
       "      <td>-24</td>\n",
       "      <td>5</td>\n",
       "    </tr>\n",
       "    <tr>\n",
       "      <th>1318</th>\n",
       "      <td>88</td>\n",
       "      <td>13</td>\n",
       "      <td>-13</td>\n",
       "      <td>4</td>\n",
       "      <td>26</td>\n",
       "      <td>-29</td>\n",
       "      <td>-27</td>\n",
       "      <td>5</td>\n",
       "    </tr>\n",
       "    <tr>\n",
       "      <th>1319</th>\n",
       "      <td>88</td>\n",
       "      <td>14</td>\n",
       "      <td>-13</td>\n",
       "      <td>2</td>\n",
       "      <td>15</td>\n",
       "      <td>-25</td>\n",
       "      <td>-25</td>\n",
       "      <td>6</td>\n",
       "    </tr>\n",
       "  </tbody>\n",
       "</table>\n",
       "<p>1320 rows × 8 columns</p>\n",
       "</div>"
      ],
      "text/plain": [
       "      id  time  F_x  F_y  F_z  T_x  T_y  T_z\n",
       "0      1     0   -1   -1   63   -3   -1    0\n",
       "1      1     1    0    0   62   -3   -1    0\n",
       "2      1     2   -1   -1   61   -3    0    0\n",
       "3      1     3   -1   -1   63   -2   -1    0\n",
       "4      1     4   -1   -1   63   -3   -1    0\n",
       "...   ..   ...  ...  ...  ...  ...  ...  ...\n",
       "1315  88    10  -10    2   39  -21  -24    5\n",
       "1316  88    11  -11    2   38  -24  -22    6\n",
       "1317  88    12  -12    3   23  -24  -24    5\n",
       "1318  88    13  -13    4   26  -29  -27    5\n",
       "1319  88    14  -13    2   15  -25  -25    6\n",
       "\n",
       "[1320 rows x 8 columns]"
      ]
     },
     "execution_count": 13,
     "metadata": {},
     "output_type": "execute_result"
    }
   ],
   "source": [
    "ts"
   ]
  },
  {
   "cell_type": "code",
   "execution_count": 14,
   "id": "05ef04b2",
   "metadata": {},
   "outputs": [
    {
     "name": "stderr",
     "output_type": "stream",
     "text": [
      "Feature Extraction: 100%|██████████████████████████████████| 38/38 [00:05<00:00,  7.08it/s]\n"
     ]
    }
   ],
   "source": [
    "from tsfresh import extract_features\n",
    "\n",
    "X = extract_features(ts, column_id='id', column_sort='time')"
   ]
  },
  {
   "cell_type": "code",
   "execution_count": 15,
   "id": "e9c64dbc",
   "metadata": {},
   "outputs": [
    {
     "data": {
      "text/plain": [
       "(88, 4734)"
      ]
     },
     "execution_count": 15,
     "metadata": {},
     "output_type": "execute_result"
    }
   ],
   "source": [
    "X.shape"
   ]
  },
  {
   "cell_type": "code",
   "execution_count": 16,
   "id": "16366929",
   "metadata": {},
   "outputs": [
    {
     "data": {
      "text/plain": [
       "789.0"
      ]
     },
     "execution_count": 16,
     "metadata": {},
     "output_type": "execute_result"
    }
   ],
   "source": [
    "4734 / 6"
   ]
  },
  {
   "cell_type": "code",
   "execution_count": 17,
   "id": "cc1c8d44",
   "metadata": {},
   "outputs": [
    {
     "data": {
      "text/plain": [
       "F_x__variance_larger_than_standard_deviation              0\n",
       "F_x__has_duplicate_max                                    0\n",
       "F_x__has_duplicate_min                                    0\n",
       "F_x__has_duplicate                                        0\n",
       "F_x__sum_values                                           0\n",
       "                                                         ..\n",
       "T_z__matrix_profile__feature_\"mean\"__threshold_0.98      88\n",
       "T_z__matrix_profile__feature_\"median\"__threshold_0.98    88\n",
       "T_z__matrix_profile__feature_\"25\"__threshold_0.98        88\n",
       "T_z__matrix_profile__feature_\"75\"__threshold_0.98        88\n",
       "T_z__mean_n_absolute_max__number_of_maxima_7              0\n",
       "Length: 4734, dtype: int64"
      ]
     },
     "execution_count": 17,
     "metadata": {},
     "output_type": "execute_result"
    }
   ],
   "source": [
    "X.isna().sum()"
   ]
  },
  {
   "cell_type": "code",
   "execution_count": 19,
   "id": "bc02e64d",
   "metadata": {},
   "outputs": [
    {
     "data": {
      "text/plain": [
       "(88, 2215)"
      ]
     },
     "execution_count": 19,
     "metadata": {},
     "output_type": "execute_result"
    }
   ],
   "source": [
    "Xreal = X.dropna(axis=1)\n",
    "Xreal.shape"
   ]
  },
  {
   "cell_type": "code",
   "execution_count": 20,
   "id": "7a14cb9f",
   "metadata": {},
   "outputs": [],
   "source": [
    "from tsfresh.transformers import FeatureSelector\n",
    "\n",
    "select = FeatureSelector()"
   ]
  },
  {
   "cell_type": "code",
   "execution_count": 21,
   "id": "26c3e7d2",
   "metadata": {},
   "outputs": [
    {
     "data": {
      "text/plain": [
       "FeatureSelector()"
      ]
     },
     "execution_count": 21,
     "metadata": {},
     "output_type": "execute_result"
    }
   ],
   "source": [
    "select.fit(Xreal, label)"
   ]
  },
  {
   "cell_type": "code",
   "execution_count": 22,
   "id": "a610c128",
   "metadata": {},
   "outputs": [
    {
     "data": {
      "text/plain": [
       "F_x__value_count__value_-1                                         1.879633e-12\n",
       "F_x__root_mean_square                                              5.900086e-12\n",
       "F_x__abs_energy                                                    5.900086e-12\n",
       "T_y__absolute_maximum                                              5.966395e-12\n",
       "F_x__mean_n_absolute_max__number_of_maxima_7                       6.054628e-12\n",
       "                                                                       ...     \n",
       "T_z__agg_linear_trend__attr_\"stderr\"__chunk_len_10__f_agg_\"var\"             NaN\n",
       "T_z__ratio_beyond_r_sigma__r_5                                              NaN\n",
       "T_z__ratio_beyond_r_sigma__r_6                                              NaN\n",
       "T_z__ratio_beyond_r_sigma__r_7                                              NaN\n",
       "T_z__ratio_beyond_r_sigma__r_10                                             NaN\n",
       "Length: 2215, dtype: float64"
      ]
     },
     "execution_count": 22,
     "metadata": {},
     "output_type": "execute_result"
    }
   ],
   "source": [
    "p_values = pd.Series(select.p_values, index=select.features)\n",
    "p_values"
   ]
  },
  {
   "cell_type": "code",
   "execution_count": 23,
   "id": "3e3d82b1",
   "metadata": {},
   "outputs": [
    {
     "data": {
      "text/plain": [
       "675"
      ]
     },
     "execution_count": 23,
     "metadata": {},
     "output_type": "execute_result"
    }
   ],
   "source": [
    "len(select.relevant_features)"
   ]
  },
  {
   "cell_type": "markdown",
   "id": "b3fc94b3",
   "metadata": {},
   "source": [
    "# Find a really good feature for discriminating the labels"
   ]
  },
  {
   "cell_type": "code",
   "execution_count": 25,
   "id": "b0e0cab7",
   "metadata": {},
   "outputs": [
    {
     "data": {
      "text/plain": [
       "(88, 675)"
      ]
     },
     "execution_count": 25,
     "metadata": {},
     "output_type": "execute_result"
    }
   ],
   "source": [
    "Xreal[select.relevant_features].shape"
   ]
  },
  {
   "cell_type": "code",
   "execution_count": 27,
   "id": "3554aac6",
   "metadata": {},
   "outputs": [
    {
     "data": {
      "text/plain": [
       "(88, 675)"
      ]
     },
     "execution_count": 27,
     "metadata": {},
     "output_type": "execute_result"
    }
   ],
   "source": [
    "select.transform(Xreal).shape"
   ]
  },
  {
   "cell_type": "code",
   "execution_count": 29,
   "id": "b36a4b49",
   "metadata": {},
   "outputs": [
    {
     "data": {
      "text/plain": [
       "True"
      ]
     },
     "execution_count": 29,
     "metadata": {},
     "output_type": "execute_result"
    }
   ],
   "source": [
    "np.alltrue(Xreal[select.relevant_features] == \n",
    "          select.transform(Xreal))"
   ]
  },
  {
   "cell_type": "code",
   "execution_count": 31,
   "id": "a7a3c03b",
   "metadata": {},
   "outputs": [
    {
     "data": {
      "text/plain": [
       "(88, 675)"
      ]
     },
     "execution_count": 31,
     "metadata": {},
     "output_type": "execute_result"
    }
   ],
   "source": [
    "Xrel = select.transform(Xreal)\n",
    "Xrel.shape"
   ]
  },
  {
   "cell_type": "code",
   "execution_count": 36,
   "id": "952eb4b9",
   "metadata": {},
   "outputs": [
    {
     "data": {
      "text/plain": [
       "DecisionTreeClassifier(random_state=0)"
      ]
     },
     "execution_count": 36,
     "metadata": {},
     "output_type": "execute_result"
    }
   ],
   "source": [
    "from sklearn.tree import DecisionTreeClassifier\n",
    "\n",
    "clf = DecisionTreeClassifier(random_state=0)\n",
    "clf.fit(Xrel, label)"
   ]
  },
  {
   "cell_type": "code",
   "execution_count": 37,
   "id": "ec59b540",
   "metadata": {},
   "outputs": [
    {
     "data": {
      "text/plain": [
       "array([[67,  0],\n",
       "       [ 0, 21]])"
      ]
     },
     "execution_count": 37,
     "metadata": {},
     "output_type": "execute_result"
    }
   ],
   "source": [
    "from sklearn.metrics import confusion_matrix\n",
    "\n",
    "confusion_matrix(label, clf.predict(Xrel))"
   ]
  },
  {
   "cell_type": "code",
   "execution_count": 38,
   "id": "67c73245",
   "metadata": {},
   "outputs": [
    {
     "data": {
      "text/plain": [
       "[Text(0.5, 0.75, 'F_x__abs_energy <= 68.5\\ngini = 0.363\\nsamples = 88\\nvalue = [67, 21]'),\n",
       " Text(0.25, 0.25, 'gini = 0.0\\nsamples = 21\\nvalue = [0, 21]'),\n",
       " Text(0.75, 0.25, 'gini = 0.0\\nsamples = 67\\nvalue = [67, 0]')]"
      ]
     },
     "execution_count": 38,
     "metadata": {},
     "output_type": "execute_result"
    },
    {
     "data": {
      "image/png": "[encoded data removed]",
      "text/plain": [
       "<Figure size 1440x360 with 1 Axes>"
      ]
     },
     "metadata": {
      "needs_background": "light"
     },
     "output_type": "display_data"
    }
   ],
   "source": [
    "from sklearn.tree import plot_tree\n",
    "\n",
    "plt.figure(figsize=(20, 5))\n",
    "plot_tree(clf, feature_names=Xrel.columns)"
   ]
  },
  {
   "cell_type": "markdown",
   "id": "a94771bb",
   "metadata": {},
   "source": [
    "`F_x__abs_energy` = $\\sum\\limits_{j=1}^T F_x[j]^2$"
   ]
  },
  {
   "cell_type": "markdown",
   "id": "6f05b26a",
   "metadata": {},
   "source": [
    "Gini impurity of node $i$ is \n",
    "\n",
    "$G_i = 1 - \\sum\\limits_{k\\in\\mathcal{C}} p_{i,k}^2$\n",
    "\n",
    "with $p_{i,k}$ is the ratio of class $k\\in\\mathcal{C}=\\{\\mathtt{True}, \\mathtt{False}\\}$ instances among the training instances in the $i^\\text{th}$ node."
   ]
  },
  {
   "cell_type": "code",
   "execution_count": 46,
   "id": "f0fe4d27",
   "metadata": {},
   "outputs": [
    {
     "data": {
      "text/plain": [
       "0.3633780991735538"
      ]
     },
     "execution_count": 46,
     "metadata": {},
     "output_type": "execute_result"
    }
   ],
   "source": [
    "# Calculate Gini of top node\n",
    "# np.sum(label) counts the number of samples with label True\n",
    "# np.sum(~label) counts the number of samples with label False\n",
    "1 - ((np.sum(label)/88)**2      # k = True\n",
    "     +(np.sum(~label)/88)**2    # k = False\n",
    "    )"
   ]
  },
  {
   "cell_type": "markdown",
   "id": "accca5e3",
   "metadata": {},
   "source": [
    "# Homework\n",
    "\n",
    "Use `cross_val_predict` to evaluate the performance of the classifier for out-of-sample predictions."
   ]
  },
  {
   "cell_type": "code",
   "execution_count": 44,
   "id": "01bcdd3b",
   "metadata": {},
   "outputs": [],
   "source": [
    "from sklearn.model_selection import cross_val_predict"
   ]
  },
  {
   "cell_type": "code",
   "execution_count": null,
   "id": "aa3deedd",
   "metadata": {},
   "outputs": [],
   "source": []
  }
 ],
 "metadata": {
  "kernelspec": {
   "display_name": "dslab",
   "language": "python",
   "name": "dslab"
  },
  "language_info": {
   "codemirror_mode": {
    "name": "ipython",
    "version": 3
   },
   "file_extension": ".py",
   "mimetype": "text/x-python",
   "name": "python",
   "nbconvert_exporter": "python",
   "pygments_lexer": "ipython3",
   "version": "3.8.13"
  }
 },
 "nbformat": 4,
 "nbformat_minor": 5
}
