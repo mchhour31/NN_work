{
 "cells": [
  {
   "cell_type": "code",
   "execution_count": 1,
   "id": "245f6a8d",
   "metadata": {},
   "outputs": [],
   "source": [
    "import numpy as np \n",
    "import pandas as pd\n",
    "import matplotlib.pyplot as plt\n",
    "\n",
    "%matplotlib inline\n",
    "%load_ext autoreload\n",
    "%autoreload 2"
   ]
  },
  {
   "cell_type": "code",
   "execution_count": 2,
   "id": "fa5cba0f",
   "metadata": {},
   "outputs": [],
   "source": [
    "from sklearn.datasets import load_digits"
   ]
  },
  {
   "cell_type": "code",
   "execution_count": 3,
   "id": "8b360c09",
   "metadata": {},
   "outputs": [],
   "source": [
    "digits = load_digits() # create bunch object (dictionary)"
   ]
  },
  {
   "cell_type": "code",
   "execution_count": 4,
   "id": "f84f8295",
   "metadata": {},
   "outputs": [
    {
     "data": {
      "text/plain": [
       "dict_keys(['data', 'target', 'frame', 'feature_names', 'target_names', 'images', 'DESCR'])"
      ]
     },
     "execution_count": 4,
     "metadata": {},
     "output_type": "execute_result"
    }
   ],
   "source": [
    "digits.keys()"
   ]
  },
  {
   "cell_type": "code",
   "execution_count": 5,
   "id": "9fa0ecf3",
   "metadata": {},
   "outputs": [
    {
     "data": {
      "text/plain": [
       "(1797, 8, 8)"
      ]
     },
     "execution_count": 5,
     "metadata": {},
     "output_type": "execute_result"
    }
   ],
   "source": [
    "digits.images.shape"
   ]
  },
  {
   "cell_type": "code",
   "execution_count": 6,
   "id": "72286c87",
   "metadata": {},
   "outputs": [
    {
     "data": {
      "text/plain": [
       "(1797, 64)"
      ]
     },
     "execution_count": 6,
     "metadata": {},
     "output_type": "execute_result"
    }
   ],
   "source": [
    "digits.data.shape"
   ]
  },
  {
   "cell_type": "code",
   "execution_count": 8,
   "id": "2c3fb819",
   "metadata": {},
   "outputs": [],
   "source": [
    "import matplotlib"
   ]
  },
  {
   "cell_type": "code",
   "execution_count": 9,
   "id": "7ee8c868",
   "metadata": {},
   "outputs": [
    {
     "data": {
      "text/plain": [
       "<matplotlib.image.AxesImage at 0x7f7e5848c490>"
      ]
     },
     "execution_count": 9,
     "metadata": {},
     "output_type": "execute_result"
    },
    {
     "data": {
      "image/png": "[encoded data removed]",
      "text/plain": [
       "<Figure size 432x288 with 1 Axes>"
      ]
     },
     "metadata": {
      "needs_background": "light"
     },
     "output_type": "display_data"
    }
   ],
   "source": [
    "plt.imshow(digits.images[0], cmap=matplotlib.cm.binary)"
   ]
  },
  {
   "cell_type": "code",
   "execution_count": 12,
   "id": "25f1ef62",
   "metadata": {},
   "outputs": [
    {
     "data": {
      "image/png": "[encoded data removed]",
      "text/plain": [
       "<Figure size 576x288 with 10 Axes>"
      ]
     },
     "metadata": {
      "needs_background": "light"
     },
     "output_type": "display_data"
    }
   ],
   "source": [
    "f, axs = plt.subplots(2,5, figsize=(8,4))\n",
    "for n, ax in enumerate(axs.flatten()):\n",
    "    ax.imshow(digits.images[n], cmap=matplotlib.cm.binary)"
   ]
  },
  {
   "cell_type": "code",
   "execution_count": 13,
   "id": "b45e9575",
   "metadata": {},
   "outputs": [],
   "source": [
    "from sklearn.linear_model import Perceptron"
   ]
  },
  {
   "cell_type": "code",
   "execution_count": 14,
   "id": "cb0ad808",
   "metadata": {},
   "outputs": [],
   "source": [
    "perceptron = Perceptron()\n"
   ]
  },
  {
   "cell_type": "code",
   "execution_count": 15,
   "id": "38491a6e",
   "metadata": {},
   "outputs": [],
   "source": [
    "y = digits.target == 9"
   ]
  },
  {
   "cell_type": "code",
   "execution_count": 16,
   "id": "48503cce",
   "metadata": {},
   "outputs": [
    {
     "data": {
      "text/plain": [
       "array([False,  True])"
      ]
     },
     "execution_count": 16,
     "metadata": {},
     "output_type": "execute_result"
    }
   ],
   "source": [
    "np.unique(y)"
   ]
  },
  {
   "cell_type": "code",
   "execution_count": 17,
   "id": "86ba462c",
   "metadata": {},
   "outputs": [
    {
     "data": {
      "text/plain": [
       "array([0, 1, 2, 3, 4, 5, 6, 7, 8, 9])"
      ]
     },
     "execution_count": 17,
     "metadata": {},
     "output_type": "execute_result"
    }
   ],
   "source": [
    "np.unique(digits.target)"
   ]
  },
  {
   "cell_type": "code",
   "execution_count": 19,
   "id": "a130a65d",
   "metadata": {},
   "outputs": [
    {
     "data": {
      "text/plain": [
       "Perceptron()"
      ]
     },
     "execution_count": 19,
     "metadata": {},
     "output_type": "execute_result"
    }
   ],
   "source": [
    "perceptron.fit(digits.data, y)"
   ]
  },
  {
   "cell_type": "code",
   "execution_count": 21,
   "id": "0a8b511f",
   "metadata": {},
   "outputs": [
    {
     "data": {
      "text/plain": [
       "array([[1613,    4],\n",
       "       [  16,  164]])"
      ]
     },
     "execution_count": 21,
     "metadata": {},
     "output_type": "execute_result"
    }
   ],
   "source": [
    "from sklearn.metrics import confusion_matrix, accuracy_score\n",
    "\n",
    "confusion_matrix(y, perceptron.predict(digits.data))"
   ]
  },
  {
   "cell_type": "code",
   "execution_count": 22,
   "id": "0e6a3f71",
   "metadata": {},
   "outputs": [
    {
     "data": {
      "text/plain": [
       "0.9888703394546466"
      ]
     },
     "execution_count": 22,
     "metadata": {},
     "output_type": "execute_result"
    }
   ],
   "source": [
    "accuracy_score(y, perceptron.predict(digits.data))"
   ]
  },
  {
   "cell_type": "code",
   "execution_count": 23,
   "id": "c0f115c3",
   "metadata": {},
   "outputs": [
    {
     "data": {
      "text/plain": [
       "array([[   0.,  -73.,  -60.,   59.,  -37., -166.,  -61.,  -74.,   -3.,\n",
       "          27.,  101.,   27.,   -1.,   27.,   99.,  -78.,   -8.,   65.,\n",
       "          91.,   43.,   23.,  284.,  -17.,  -88.,   -3.,  -98.,   75.,\n",
       "         161.,  -51.,  178.,  -66.,   -8.,    0., -259., -107.,  209.,\n",
       "        -199., -119.,   10.,    0.,    0.,  -31., -335., -551., -258.,\n",
       "         -99.,  -98.,    4.,    0.,   63.,  -36.,  -14.,  -64., -104.,\n",
       "         -29.,   22.,    0.,  -42.,  -90.,  -88.,    5.,  -23.,  -18.,\n",
       "         -15.]])"
      ]
     },
     "execution_count": 23,
     "metadata": {},
     "output_type": "execute_result"
    }
   ],
   "source": [
    "perceptron.coef_ # vector w of weights"
   ]
  },
  {
   "cell_type": "code",
   "execution_count": 25,
   "id": "96e36f5b",
   "metadata": {},
   "outputs": [
    {
     "data": {
      "text/plain": [
       "<matplotlib.colorbar.Colorbar at 0x7f7e1bcbeb50>"
      ]
     },
     "execution_count": 25,
     "metadata": {},
     "output_type": "execute_result"
    },
    {
     "data": {
      "image/png": "[encoded data removed]",
      "text/plain": [
       "<Figure size 432x288 with 2 Axes>"
      ]
     },
     "metadata": {
      "needs_background": "light"
     },
     "output_type": "display_data"
    }
   ],
   "source": [
    "plt.imshow(perceptron.coef_.reshape(8,8), \n",
    "           cmap=matplotlib.cm.binary)\n",
    "plt.colorbar()"
   ]
  },
  {
   "cell_type": "code",
   "execution_count": 26,
   "id": "bf3c9e63",
   "metadata": {},
   "outputs": [
    {
     "data": {
      "text/plain": [
       "array([-38.])"
      ]
     },
     "execution_count": 26,
     "metadata": {},
     "output_type": "execute_result"
    }
   ],
   "source": [
    "perceptron.intercept_"
   ]
  },
  {
   "cell_type": "code",
   "execution_count": 28,
   "id": "f4534aeb",
   "metadata": {},
   "outputs": [
    {
     "data": {
      "text/plain": [
       "array([-4477.])"
      ]
     },
     "execution_count": 28,
     "metadata": {},
     "output_type": "execute_result"
    }
   ],
   "source": [
    "perceptron.intercept_ + np.dot(digits.data[0, :],\n",
    "                               perceptron.coef_[0])"
   ]
  },
  {
   "cell_type": "code",
   "execution_count": 29,
   "id": "cd7c7554",
   "metadata": {},
   "outputs": [
    {
     "data": {
      "text/plain": [
       "array([ 0.,  0.,  5., 13.,  9.,  1.,  0.,  0.,  0.,  0., 13., 15., 10.,\n",
       "       15.,  5.,  0.,  0.,  3., 15.,  2.,  0., 11.,  8.,  0.,  0.,  4.,\n",
       "       12.,  0.,  0.,  8.,  8.,  0.,  0.,  5.,  8.,  0.,  0.,  9.,  8.,\n",
       "        0.,  0.,  4., 11.,  0.,  1., 12.,  7.,  0.,  0.,  2., 14.,  5.,\n",
       "       10., 12.,  0.,  0.,  0.,  0.,  6., 13., 10.,  0.,  0.,  0.])"
      ]
     },
     "execution_count": 29,
     "metadata": {},
     "output_type": "execute_result"
    }
   ],
   "source": [
    "digits.data[0, :]"
   ]
  },
  {
   "cell_type": "code",
   "execution_count": 30,
   "id": "1e7a2edf",
   "metadata": {},
   "outputs": [
    {
     "data": {
      "text/plain": [
       "array([False])"
      ]
     },
     "execution_count": 30,
     "metadata": {},
     "output_type": "execute_result"
    }
   ],
   "source": [
    "perceptron.predict(digits.data[[0], :])"
   ]
  },
  {
   "cell_type": "code",
   "execution_count": 31,
   "id": "09a44ec0",
   "metadata": {},
   "outputs": [
    {
     "data": {
      "text/plain": [
       "array([2794.])"
      ]
     },
     "execution_count": 31,
     "metadata": {},
     "output_type": "execute_result"
    }
   ],
   "source": [
    "perceptron.intercept_ + np.dot(digits.data[9, :],\n",
    "                               perceptron.coef_[0])"
   ]
  },
  {
   "cell_type": "code",
   "execution_count": 32,
   "id": "46d6e8b5",
   "metadata": {},
   "outputs": [
    {
     "data": {
      "text/plain": [
       "array([ True])"
      ]
     },
     "execution_count": 32,
     "metadata": {},
     "output_type": "execute_result"
    }
   ],
   "source": [
    "perceptron.predict(digits.data[[9], :])"
   ]
  },
  {
   "cell_type": "markdown",
   "id": "cf10633b",
   "metadata": {},
   "source": [
    "# Probability estimation"
   ]
  },
  {
   "cell_type": "code",
   "execution_count": 33,
   "id": "e2b2cf13",
   "metadata": {},
   "outputs": [],
   "source": [
    "from sklearn.linear_model import LogisticRegression"
   ]
  },
  {
   "cell_type": "code",
   "execution_count": 39,
   "id": "0a8ecbf9",
   "metadata": {},
   "outputs": [],
   "source": [
    "z = np.dot(digits.data, perceptron.coef_[0]) + perceptron.intercept_"
   ]
  },
  {
   "cell_type": "code",
   "execution_count": 43,
   "id": "199d8e0e",
   "metadata": {},
   "outputs": [
    {
     "data": {
      "text/plain": [
       "LogisticRegression()"
      ]
     },
     "execution_count": 43,
     "metadata": {},
     "output_type": "execute_result"
    }
   ],
   "source": [
    "clf = LogisticRegression()\n",
    "clf.fit(z[:, np.newaxis], y)\n"
   ]
  },
  {
   "cell_type": "code",
   "execution_count": 45,
   "id": "595227d0",
   "metadata": {},
   "outputs": [
    {
     "data": {
      "text/plain": [
       "array([[9.97320401e-01, 2.67959922e-03],\n",
       "       [9.99999931e-01, 6.94965301e-08],\n",
       "       [9.99999996e-01, 3.68640869e-09],\n",
       "       [9.98912229e-01, 1.08777109e-03],\n",
       "       [1.00000000e+00, 2.44313282e-12],\n",
       "       [4.08378333e-01, 5.91621667e-01],\n",
       "       [1.00000000e+00, 3.52899197e-11],\n",
       "       [9.99997137e-01, 2.86251004e-06],\n",
       "       [9.99981775e-01, 1.82253464e-05],\n",
       "       [9.91147235e-03, 9.90088528e-01]])"
      ]
     },
     "execution_count": 45,
     "metadata": {},
     "output_type": "execute_result"
    }
   ],
   "source": [
    "clf.predict_proba(z[:, np.newaxis])[:10,:]"
   ]
  },
  {
   "cell_type": "markdown",
   "id": "afb92204",
   "metadata": {},
   "source": [
    "# Multiclass problem"
   ]
  },
  {
   "cell_type": "code",
   "execution_count": 46,
   "id": "2e4e688c",
   "metadata": {},
   "outputs": [],
   "source": [
    "mcp = Perceptron()"
   ]
  },
  {
   "cell_type": "code",
   "execution_count": 47,
   "id": "8211e164",
   "metadata": {},
   "outputs": [
    {
     "data": {
      "text/plain": [
       "Perceptron()"
      ]
     },
     "execution_count": 47,
     "metadata": {},
     "output_type": "execute_result"
    }
   ],
   "source": [
    "mcp.fit(digits.data, digits.target)"
   ]
  },
  {
   "cell_type": "code",
   "execution_count": 48,
   "id": "435897dd",
   "metadata": {},
   "outputs": [
    {
     "data": {
      "text/plain": [
       "array([ -5., -52.,  -7., -23.,   4., -12., -17.,  -4., -69., -35.])"
      ]
     },
     "execution_count": 48,
     "metadata": {},
     "output_type": "execute_result"
    }
   ],
   "source": [
    "mcp.intercept_"
   ]
  },
  {
   "cell_type": "code",
   "execution_count": 49,
   "id": "0f51c89b",
   "metadata": {},
   "outputs": [
    {
     "data": {
      "text/plain": [
       "(10, 64)"
      ]
     },
     "execution_count": 49,
     "metadata": {},
     "output_type": "execute_result"
    }
   ],
   "source": [
    "mcp.coef_.shape"
   ]
  },
  {
   "cell_type": "code",
   "execution_count": 50,
   "id": "af431536",
   "metadata": {},
   "outputs": [],
   "source": [
    "y_hat = mcp.predict(digits.data)"
   ]
  },
  {
   "cell_type": "code",
   "execution_count": 52,
   "id": "d4f3f3dd",
   "metadata": {},
   "outputs": [
    {
     "data": {
      "text/plain": [
       "array([0, 1, 2, 3, 4, 5, 6, 7, 8, 9])"
      ]
     },
     "execution_count": 52,
     "metadata": {},
     "output_type": "execute_result"
    }
   ],
   "source": [
    "np.unique(y_hat)"
   ]
  },
  {
   "cell_type": "code",
   "execution_count": 53,
   "id": "3a4c5767",
   "metadata": {},
   "outputs": [
    {
     "data": {
      "text/plain": [
       "0.9393433500278241"
      ]
     },
     "execution_count": 53,
     "metadata": {},
     "output_type": "execute_result"
    }
   ],
   "source": [
    "accuracy_score(digits.target, y_hat)"
   ]
  },
  {
   "cell_type": "code",
   "execution_count": 54,
   "id": "8384123c",
   "metadata": {},
   "outputs": [
    {
     "data": {
      "text/plain": [
       "array([[178,   0,   0,   0,   0,   0,   0,   0,   0,   0],\n",
       "       [  0, 181,   0,   0,   0,   0,   0,   0,   0,   1],\n",
       "       [  0,   4, 172,   1,   0,   0,   0,   0,   0,   0],\n",
       "       [  0,   1,   2, 178,   0,   0,   0,   2,   0,   0],\n",
       "       [  0,   4,   0,   0, 177,   0,   0,   0,   0,   0],\n",
       "       [  0,   6,   2,   3,   0, 167,   0,   2,   0,   2],\n",
       "       [  1,   5,   0,   0,   1,   0, 174,   0,   0,   0],\n",
       "       [  0,   0,   0,   0,   0,   0,   0, 178,   0,   1],\n",
       "       [  0,  38,   7,   3,   1,   0,   0,   1, 123,   1],\n",
       "       [  0,  10,   1,   3,   0,   1,   0,   5,   0, 160]])"
      ]
     },
     "execution_count": 54,
     "metadata": {},
     "output_type": "execute_result"
    }
   ],
   "source": [
    "confusion_matrix(digits.target, y_hat)"
   ]
  },
  {
   "cell_type": "markdown",
   "id": "07363e6a",
   "metadata": {},
   "source": [
    "# PCA analysis of model"
   ]
  },
  {
   "cell_type": "code",
   "execution_count": 56,
   "id": "cb97953a",
   "metadata": {},
   "outputs": [
    {
     "data": {
      "text/plain": [
       "Pipeline(steps=[('standardscaler', StandardScaler()),\n",
       "                ('pca', PCA(n_components=2))])"
      ]
     },
     "execution_count": 56,
     "metadata": {},
     "output_type": "execute_result"
    }
   ],
   "source": [
    "from sklearn.pipeline import make_pipeline\n",
    "from sklearn.preprocessing import StandardScaler\n",
    "from sklearn.decomposition import PCA\n",
    "\n",
    "pca = make_pipeline(StandardScaler(), PCA(n_components=2))\n",
    "pca.fit(mcp.coef_)"
   ]
  },
  {
   "cell_type": "code",
   "execution_count": 57,
   "id": "45a9c38e",
   "metadata": {},
   "outputs": [],
   "source": [
    "PC = pca.transform(mcp.coef_)"
   ]
  },
  {
   "cell_type": "code",
   "execution_count": 58,
   "id": "3da22d7a",
   "metadata": {},
   "outputs": [
    {
     "data": {
      "text/plain": [
       "dict_keys(['standardscaler', 'pca'])"
      ]
     },
     "execution_count": 58,
     "metadata": {},
     "output_type": "execute_result"
    }
   ],
   "source": [
    "pca.named_steps.keys()"
   ]
  },
  {
   "cell_type": "code",
   "execution_count": 64,
   "id": "ac7fbd27",
   "metadata": {},
   "outputs": [],
   "source": [
    "pca = make_pipeline(StandardScaler(), PCA())\n",
    "pca.fit(mcp.coef_)\n",
    "explained_variance = pca.named_steps['pca'].explained_variance_"
   ]
  },
  {
   "cell_type": "code",
   "execution_count": 65,
   "id": "faacc490",
   "metadata": {},
   "outputs": [
    {
     "data": {
      "text/plain": [
       "array([2.08583375e-01, 1.66291436e-01, 1.30438108e-01, 1.28381518e-01,\n",
       "       1.10931454e-01, 8.72585911e-02, 7.19854645e-02, 6.25685494e-02,\n",
       "       3.35615041e-02, 6.72153694e-33])"
      ]
     },
     "execution_count": 65,
     "metadata": {},
     "output_type": "execute_result"
    }
   ],
   "source": [
    "\n",
    "explained_variance / np.sum(explained_variance)"
   ]
  },
  {
   "cell_type": "code",
   "execution_count": 63,
   "id": "87f5859e",
   "metadata": {},
   "outputs": [
    {
     "data": {
      "image/png": "[encoded data removed]",
      "text/plain": [
       "<Figure size 432x288 with 1 Axes>"
      ]
     },
     "metadata": {
      "needs_background": "light"
     },
     "output_type": "display_data"
    }
   ],
   "source": [
    "plt.plot(PC[:, 0], PC[:, 1], 'o')\n",
    "for x, y, s in zip(PC[:, 0], PC[:, 1], range(10)):\n",
    "    plt.text(x, y, str(s))"
   ]
  },
  {
   "cell_type": "code",
   "execution_count": null,
   "id": "b048cb53",
   "metadata": {},
   "outputs": [],
   "source": []
  }
 ],
 "metadata": {
  "kernelspec": {
   "display_name": "dslab",
   "language": "python",
   "name": "dslab"
  },
  "language_info": {
   "codemirror_mode": {
    "name": "ipython",
    "version": 3
   },
   "file_extension": ".py",
   "mimetype": "text/x-python",
   "name": "python",
   "nbconvert_exporter": "python",
   "pygments_lexer": "ipython3",
   "version": "3.8.13"
  }
 },
 "nbformat": 4,
 "nbformat_minor": 5
}
