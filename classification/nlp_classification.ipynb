{
  "nbformat": 4,
  "nbformat_minor": 0,
  "metadata": {
    "colab": {
      "provenance": [],
      "authorship_tag": "ABX9TyOyH0mNqvmpEZCaK1QKZgB+",
      "include_colab_link": true
    },
    "kernelspec": {
      "name": "python3",
      "display_name": "Python 3"
    },
    "language_info": {
      "name": "python"
    }
  },
  "cells": [
    {
      "cell_type": "markdown",
      "metadata": {
        "id": "view-in-github",
        "colab_type": "text"
      },
      "source": [
        "<a href=\"https://colab.research.google.com/github/mchhour31/NN_work/blob/main/nlp_classification.ipynb\" target=\"_parent\"><img src=\"https://colab.research.google.com/assets/colab-badge.svg\" alt=\"Open In Colab\"/></a>"
      ]
    },
    {
      "cell_type": "code",
      "execution_count": 25,
      "metadata": {
        "id": "3S3vUrr25n6F"
      },
      "outputs": [],
      "source": [
        "import numpy as np\n",
        "import pandas as pd\n",
        "import matplotlib.pyplot as plt"
      ]
    },
    {
      "cell_type": "code",
      "source": [
        "from sklearn.datasets import fetch_20newsgroups\n",
        "\n",
        "df_train = fetch_20newsgroups(subset='train', shuffle=True)\n",
        "X_train = df_train.data\n",
        "y_train = df_train.target\n",
        "\n",
        "df_test = fetch_20newsgroups(subset='test', shuffle=True)\n",
        "X_test = df_test.data\n",
        "y_test = df_test.target"
      ],
      "metadata": {
        "id": "xLQE1YVL6JAA"
      },
      "execution_count": 26,
      "outputs": []
    },
    {
      "cell_type": "code",
      "source": [
        "df_train.target_names"
      ],
      "metadata": {
        "colab": {
          "base_uri": "https://localhost:8080/"
        },
        "id": "FvsxOMUG6ZEQ",
        "outputId": "6a5c605b-3ecd-446c-c352-e1795ef37885"
      },
      "execution_count": 27,
      "outputs": [
        {
          "output_type": "execute_result",
          "data": {
            "text/plain": [
              "['alt.atheism',\n",
              " 'comp.graphics',\n",
              " 'comp.os.ms-windows.misc',\n",
              " 'comp.sys.ibm.pc.hardware',\n",
              " 'comp.sys.mac.hardware',\n",
              " 'comp.windows.x',\n",
              " 'misc.forsale',\n",
              " 'rec.autos',\n",
              " 'rec.motorcycles',\n",
              " 'rec.sport.baseball',\n",
              " 'rec.sport.hockey',\n",
              " 'sci.crypt',\n",
              " 'sci.electronics',\n",
              " 'sci.med',\n",
              " 'sci.space',\n",
              " 'soc.religion.christian',\n",
              " 'talk.politics.guns',\n",
              " 'talk.politics.mideast',\n",
              " 'talk.politics.misc',\n",
              " 'talk.religion.misc']"
            ]
          },
          "metadata": {},
          "execution_count": 27
        }
      ]
    },
    {
      "cell_type": "code",
      "source": [
        "df_test.target_names"
      ],
      "metadata": {
        "colab": {
          "base_uri": "https://localhost:8080/"
        },
        "id": "Vbxv12Zg6VTD",
        "outputId": "91e7fb00-4854-4c84-f75d-9a17ca7935b4"
      },
      "execution_count": 28,
      "outputs": [
        {
          "output_type": "execute_result",
          "data": {
            "text/plain": [
              "['alt.atheism',\n",
              " 'comp.graphics',\n",
              " 'comp.os.ms-windows.misc',\n",
              " 'comp.sys.ibm.pc.hardware',\n",
              " 'comp.sys.mac.hardware',\n",
              " 'comp.windows.x',\n",
              " 'misc.forsale',\n",
              " 'rec.autos',\n",
              " 'rec.motorcycles',\n",
              " 'rec.sport.baseball',\n",
              " 'rec.sport.hockey',\n",
              " 'sci.crypt',\n",
              " 'sci.electronics',\n",
              " 'sci.med',\n",
              " 'sci.space',\n",
              " 'soc.religion.christian',\n",
              " 'talk.politics.guns',\n",
              " 'talk.politics.mideast',\n",
              " 'talk.politics.misc',\n",
              " 'talk.religion.misc']"
            ]
          },
          "metadata": {},
          "execution_count": 28
        }
      ]
    },
    {
      "cell_type": "markdown",
      "source": [
        "### Naive Approach"
      ],
      "metadata": {
        "id": "wLFI8jtZfBsq"
      }
    },
    {
      "cell_type": "code",
      "source": [
        "from sklearn.feature_extraction.text import CountVectorizer\n",
        "\n",
        "# bag of words model\n",
        "cv = CountVectorizer()\n",
        "X_train_count = cv.fit_transform(X_train)\n",
        "X_train_count.shape"
      ],
      "metadata": {
        "id": "WPeJL13j6cLL",
        "colab": {
          "base_uri": "https://localhost:8080/"
        },
        "outputId": "853fe80e-f2df-4e8c-ad6d-7e64e5a32e42"
      },
      "execution_count": 29,
      "outputs": [
        {
          "output_type": "execute_result",
          "data": {
            "text/plain": [
              "(11314, 130107)"
            ]
          },
          "metadata": {},
          "execution_count": 29
        }
      ]
    },
    {
      "cell_type": "code",
      "source": [
        "from sklearn.feature_extraction.text import TfidfTransformer\n",
        "\n",
        "# tf-idf (penalises repeating words)\n",
        "tfidf = TfidfTransformer()\n",
        "X_train_idf = tfidf.fit_transform(X_train_count)\n",
        "X_train_idf.shape"
      ],
      "metadata": {
        "id": "58IujjJk6b7f",
        "colab": {
          "base_uri": "https://localhost:8080/"
        },
        "outputId": "1e28710c-bf25-4d06-ef9c-c58be6a15d02"
      },
      "execution_count": 30,
      "outputs": [
        {
          "output_type": "execute_result",
          "data": {
            "text/plain": [
              "(11314, 130107)"
            ]
          },
          "metadata": {},
          "execution_count": 30
        }
      ]
    },
    {
      "cell_type": "code",
      "source": [
        "tfidf.fit_transform(cv.fit_transform(X_test)).shape"
      ],
      "metadata": {
        "colab": {
          "base_uri": "https://localhost:8080/"
        },
        "id": "swmsHQkp79rZ",
        "outputId": "0ec214b0-e4d3-48c9-e4b1-9159992af956"
      },
      "execution_count": 31,
      "outputs": [
        {
          "output_type": "execute_result",
          "data": {
            "text/plain": [
              "(7532, 93564)"
            ]
          },
          "metadata": {},
          "execution_count": 31
        }
      ]
    },
    {
      "cell_type": "code",
      "source": [
        "from sklearn.naive_bayes import MultinomialNB\n",
        "\n",
        "# naive bayes classifier\n",
        "clf = MultinomialNB().fit(X_train_idf, y_train)"
      ],
      "metadata": {
        "id": "egvxiKiu6b5T"
      },
      "execution_count": 32,
      "outputs": []
    },
    {
      "cell_type": "markdown",
      "source": [
        "## Pipeline of Naive Approach"
      ],
      "metadata": {
        "id": "GWT7gciVoTO9"
      }
    },
    {
      "cell_type": "code",
      "source": [
        "from sklearn.pipeline import Pipeline\n",
        "from sklearn.model_selection import train_test_split\n",
        "from sklearn.naive_bayes import MultinomialNB\n",
        "from sklearn.feature_extraction.text import TfidfTransformer\n",
        "from sklearn.feature_extraction.text import CountVectorizer\n",
        "\n",
        "text_clf = Pipeline([\n",
        "    ('vect', CountVectorizer()),\n",
        "    ('tfidf', TfidfTransformer()),\n",
        "    ('clf', MultinomialNB())\n",
        "])\n",
        "\n",
        "text_clf = text_clf.fit(X_train, y_train)\n",
        "prediction = text_clf.predict(X_test)\n",
        "print(np.mean(prediction == y_test))"
      ],
      "metadata": {
        "id": "lJsTJrKe6b3D",
        "colab": {
          "base_uri": "https://localhost:8080/"
        },
        "outputId": "c541670c-2c1d-4d94-cd97-77ac1d982376"
      },
      "execution_count": 33,
      "outputs": [
        {
          "output_type": "stream",
          "name": "stdout",
          "text": [
            "0.7738980350504514\n"
          ]
        }
      ]
    },
    {
      "cell_type": "code",
      "source": [
        "from sklearn.model_selection import GridSearchCV # exhaustive search through values, selects best one (hyperparameter tuning)\n",
        "\n",
        "parameters = {'vect__ngram_range': [(1, 1), (1, 2)], 'tfidf__use_idf': (True, False), 'clf__alpha': (1e-2, 1e-3)}"
      ],
      "metadata": {
        "id": "6Z8XutNsCj0w"
      },
      "execution_count": 35,
      "outputs": []
    },
    {
      "cell_type": "code",
      "source": [
        "gs_clf = GridSearchCV(text_clf, parameters, n_jobs=-1)\n",
        "gs_clf = gs_clf.fit(X_train, y_train)"
      ],
      "metadata": {
        "colab": {
          "base_uri": "https://localhost:8080/"
        },
        "id": "Q9P-1Hn1g4zI",
        "outputId": "c478f9a7-4d2e-4a26-8a3d-cad447fcc57b"
      },
      "execution_count": 37,
      "outputs": [
        {
          "output_type": "stream",
          "name": "stderr",
          "text": [
            "/usr/local/lib/python3.7/dist-packages/joblib/externals/loky/process_executor.py:703: UserWarning: A worker stopped while some jobs were given to the executor. This can be caused by a too short worker timeout or by a memory leak.\n",
            "  \"timeout or by a memory leak.\", UserWarning\n"
          ]
        }
      ]
    },
    {
      "cell_type": "code",
      "source": [
        "gs_clf.best_params_"
      ],
      "metadata": {
        "colab": {
          "base_uri": "https://localhost:8080/"
        },
        "id": "27KO3Kg_hamx",
        "outputId": "9667af8f-9aad-41ba-c75b-1698a7ad0d89"
      },
      "execution_count": 38,
      "outputs": [
        {
          "output_type": "execute_result",
          "data": {
            "text/plain": [
              "{'clf__alpha': 0.001, 'tfidf__use_idf': True, 'vect__ngram_range': (1, 2)}"
            ]
          },
          "metadata": {},
          "execution_count": 38
        }
      ]
    },
    {
      "cell_type": "code",
      "source": [
        "print(f\"Accuracy of Naive Bayes Classifier w/ optimal parameters: {gs_clf.best_score_}\")"
      ],
      "metadata": {
        "id": "VdW6JhEIOfOE",
        "outputId": "edd61d7d-06b2-4d71-c1fc-939ba11f6e56",
        "colab": {
          "base_uri": "https://localhost:8080/"
        }
      },
      "execution_count": 40,
      "outputs": [
        {
          "output_type": "stream",
          "name": "stdout",
          "text": [
            "Accuracy of Naive Bayes Classifier w/ optimal parameters: 0.9157684864695698\n"
          ]
        }
      ]
    },
    {
      "cell_type": "markdown",
      "source": [
        "## Using SVM for classification"
      ],
      "metadata": {
        "id": "ZGLkUYW7_1sS"
      }
    },
    {
      "cell_type": "code",
      "source": [
        "from sklearn.linear_model import SGDClassifier\n",
        "\n",
        "text_clf_sgd = Pipeline([\n",
        "    ('vect', CountVectorizer()),\n",
        "    ('tfidf', TfidfTransformer()),\n",
        "    ('clf-svm', SGDClassifier(loss='modified_huber', penalty='l2', alpha=1e-3, max_iter=1000, random_state=0)) # huber loss (less sensitive to outliers)\n",
        "])\n",
        "\n",
        "text_clf_sgd = text_clf_sgd.fit(X_train, y_train)\n",
        "y_pred = text_clf_sgd.predict(X_test)\n",
        "print(np.mean(y_test == y_pred))"
      ],
      "metadata": {
        "id": "bWBu0yHd6b0s",
        "colab": {
          "base_uri": "https://localhost:8080/"
        },
        "outputId": "bad7c95d-339a-48d7-af51-510b17d8d2b2"
      },
      "execution_count": 53,
      "outputs": [
        {
          "output_type": "stream",
          "name": "stdout",
          "text": [
            "0.8396176314391928\n"
          ]
        }
      ]
    },
    {
      "cell_type": "markdown",
      "source": [
        "Hyperparameter Tuning"
      ],
      "metadata": {
        "id": "gvN5YX7HSNP_"
      }
    },
    {
      "cell_type": "code",
      "source": [
        "from sklearn.model_selection import GridSearchCV\n",
        "\n",
        "parameters_svm = {'vect__ngram_range': [(1, 1), (1, 2)], 'tfidf__use_idf': (True, False),'clf-svm__alpha': (1e-2, 1e-3)}"
      ],
      "metadata": {
        "id": "FOkPy4uUhagN"
      },
      "execution_count": 51,
      "outputs": []
    },
    {
      "cell_type": "code",
      "source": [
        "gcv = GridSearchCV(text_clf_sgd, parameters_svm, n_jobs=-1).fit(X_train, y_train)"
      ],
      "metadata": {
        "id": "_J9mb5jXTWAT",
        "outputId": "3351b80a-f78e-4e69-c165-223c8fe71acf",
        "colab": {
          "base_uri": "https://localhost:8080/"
        }
      },
      "execution_count": 54,
      "outputs": [
        {
          "output_type": "stream",
          "name": "stderr",
          "text": [
            "/usr/local/lib/python3.7/dist-packages/joblib/externals/loky/process_executor.py:703: UserWarning: A worker stopped while some jobs were given to the executor. This can be caused by a too short worker timeout or by a memory leak.\n",
            "  \"timeout or by a memory leak.\", UserWarning\n"
          ]
        }
      ]
    },
    {
      "cell_type": "code",
      "source": [
        "gcv.best_params_"
      ],
      "metadata": {
        "id": "qkxZsxSmRpZO",
        "outputId": "affb0b13-fd4f-4af7-b918-28dd1beeae98",
        "colab": {
          "base_uri": "https://localhost:8080/"
        }
      },
      "execution_count": 55,
      "outputs": [
        {
          "output_type": "execute_result",
          "data": {
            "text/plain": [
              "{'clf-svm__alpha': 0.001, 'tfidf__use_idf': True, 'vect__ngram_range': (1, 2)}"
            ]
          },
          "metadata": {},
          "execution_count": 55
        }
      ]
    },
    {
      "cell_type": "code",
      "source": [
        "print(f\"Accuracy of SVM Classification Model: {gcv.best_score_}\")"
      ],
      "metadata": {
        "id": "ZPOmF3l_WDkX",
        "outputId": "6ea6a6a9-6ed9-4836-f30a-3294011e909b",
        "colab": {
          "base_uri": "https://localhost:8080/"
        }
      },
      "execution_count": 59,
      "outputs": [
        {
          "output_type": "stream",
          "name": "stdout",
          "text": [
            "Accuracy of SVM Classification Model: 0.9061341622604517\n"
          ]
        }
      ]
    }
  ]
}