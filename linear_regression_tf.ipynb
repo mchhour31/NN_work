{
  "nbformat": 4,
  "nbformat_minor": 0,
  "metadata": {
    "colab": {
      "provenance": [],
      "authorship_tag": "ABX9TyOkJsqNPw15FaZsyjzL+Hr0",
      "include_colab_link": true
    },
    "kernelspec": {
      "name": "python3",
      "display_name": "Python 3"
    },
    "language_info": {
      "name": "python"
    }
  },
  "cells": [
    {
      "cell_type": "markdown",
      "metadata": {
        "id": "view-in-github",
        "colab_type": "text"
      },
      "source": [
        "<a href=\"https://colab.research.google.com/github/mchhour31/NN_work/blob/main/linear_regression_tf.ipynb\" target=\"_parent\"><img src=\"https://colab.research.google.com/assets/colab-badge.svg\" alt=\"Open In Colab\"/></a>"
      ]
    },
    {
      "cell_type": "code",
      "execution_count": 38,
      "metadata": {
        "id": "vN9cySp2rNC7"
      },
      "outputs": [],
      "source": [
        "import tensorflow as tf\n",
        "import numpy as np\n",
        "import pandas as pd\n",
        "import matplotlib.pyplot as plt"
      ]
    },
    {
      "cell_type": "code",
      "source": [
        "tf.__version__"
      ],
      "metadata": {
        "colab": {
          "base_uri": "https://localhost:8080/",
          "height": 36
        },
        "id": "s5aJ5oUAtuEk",
        "outputId": "5d61145c-bc06-452e-8692-a419b2089aac"
      },
      "execution_count": 39,
      "outputs": [
        {
          "output_type": "execute_result",
          "data": {
            "text/plain": [
              "'2.9.2'"
            ],
            "application/vnd.google.colaboratory.intrinsic+json": {
              "type": "string"
            }
          },
          "metadata": {},
          "execution_count": 39
        }
      ]
    },
    {
      "cell_type": "code",
      "source": [
        "!wget https://raw.githubusercontent.com/lazyprogrammer/machine_learning_examples/master/tf2.0/moore.csv\n"
      ],
      "metadata": {
        "colab": {
          "base_uri": "https://localhost:8080/"
        },
        "id": "0YwGxwSPtuCn",
        "outputId": "a028eff3-89f2-49b3-b5c5-781f495c8e74"
      },
      "execution_count": 40,
      "outputs": [
        {
          "output_type": "stream",
          "name": "stdout",
          "text": [
            "--2022-12-04 08:36:11--  https://raw.githubusercontent.com/lazyprogrammer/machine_learning_examples/master/tf2.0/moore.csv\n",
            "Resolving raw.githubusercontent.com (raw.githubusercontent.com)... 185.199.108.133, 185.199.109.133, 185.199.110.133, ...\n",
            "Connecting to raw.githubusercontent.com (raw.githubusercontent.com)|185.199.108.133|:443... connected.\n",
            "HTTP request sent, awaiting response... 200 OK\n",
            "Length: 2302 (2.2K) [text/plain]\n",
            "Saving to: ‘moore.csv.1’\n",
            "\n",
            "moore.csv.1         100%[===================>]   2.25K  --.-KB/s    in 0s      \n",
            "\n",
            "2022-12-04 08:36:11 (15.2 MB/s) - ‘moore.csv.1’ saved [2302/2302]\n",
            "\n"
          ]
        }
      ]
    },
    {
      "cell_type": "code",
      "source": [
        "df = pd.read_csv(\"moore.csv\", header=None).values\n",
        "X = df[:, 0]\n",
        "y = df[:, -1]"
      ],
      "metadata": {
        "id": "sI-EXMvctt9z"
      },
      "execution_count": 41,
      "outputs": []
    },
    {
      "cell_type": "code",
      "source": [
        "plt.scatter(X, y)"
      ],
      "metadata": {
        "colab": {
          "base_uri": "https://localhost:8080/",
          "height": 294
        },
        "id": "OoF9a1Hmtt2u",
        "outputId": "f6168629-f8d0-441c-b9f3-9ad98131119f"
      },
      "execution_count": 42,
      "outputs": [
        {
          "output_type": "execute_result",
          "data": {
            "text/plain": [
              "<matplotlib.collections.PathCollection at 0x7f99c951f760>"
            ]
          },
          "metadata": {},
          "execution_count": 42
        },
        {
          "output_type": "display_data",
          "data": {
            "text/plain": [
              "<Figure size 432x288 with 1 Axes>"
            ],
            "image/png": "[encoded data removed]"
          },
          "metadata": {
            "needs_background": "light"
          }
        }
      ]
    },
    {
      "cell_type": "code",
      "source": [
        "# datapoints are exponential, so need to log them\n",
        "\n",
        "y = np.log(y)\n",
        "plt.scatter(X, y)"
      ],
      "metadata": {
        "colab": {
          "base_uri": "https://localhost:8080/",
          "height": 283
        },
        "id": "a4m1f9zjtt0f",
        "outputId": "15775e1f-3116-45bb-f50c-41f6e77fd82c"
      },
      "execution_count": 43,
      "outputs": [
        {
          "output_type": "execute_result",
          "data": {
            "text/plain": [
              "<matplotlib.collections.PathCollection at 0x7f99c9484fa0>"
            ]
          },
          "metadata": {},
          "execution_count": 43
        },
        {
          "output_type": "display_data",
          "data": {
            "text/plain": [
              "<Figure size 432x288 with 1 Axes>"
            ],
            "image/png": "[encoded data removed]"
          },
          "metadata": {
            "needs_background": "light"
          }
        }
      ]
    },
    {
      "cell_type": "code",
      "source": [
        "# feature scaling, centering the data around 0\n",
        "# can also use standardscaler, except that transformation needs to be reveresed later on\n",
        "X = X - X.mean()"
      ],
      "metadata": {
        "id": "Gn9FYEcb0b1A"
      },
      "execution_count": 44,
      "outputs": []
    },
    {
      "cell_type": "code",
      "source": [
        "# neural net model\n",
        "model = tf.keras.models.Sequential()\n",
        "model.add(tf.keras.layers.Dense(1, input_shape=(1,)))\n",
        "\n",
        "model.compile(optimizer=tf.keras.optimizers.SGD(learning_rate=0.001, momentum=0.9), loss='mse')\n",
        "\n",
        "# learning rate scheduler\n",
        "def schedule(epoch, lr):\n",
        "  if epoch >= 50:\n",
        "    return 0.0001\n",
        "  return 0.001\n",
        "\n",
        "scheduler = tf.keras.callbacks.LearningRateScheduler(schedule)\n",
        "\n",
        "# fit the model\n",
        "r = model.fit(X, y, epochs=200, callbacks=[scheduler])"
      ],
      "metadata": {
        "colab": {
          "base_uri": "https://localhost:8080/"
        },
        "id": "n2gtVC5B0byu",
        "outputId": "fdb940fd-f890-4dcd-eb02-df59553cdd96"
      },
      "execution_count": 45,
      "outputs": [
        {
          "output_type": "stream",
          "name": "stdout",
          "text": [
            "Epoch 1/200\n",
            "6/6 [==============================] - 1s 3ms/step - loss: 647.6614 - lr: 0.0010\n",
            "Epoch 2/200\n",
            "6/6 [==============================] - 0s 4ms/step - loss: 715.5496 - lr: 0.0010\n",
            "Epoch 3/200\n",
            "6/6 [==============================] - 0s 5ms/step - loss: 370.6853 - lr: 0.0010\n",
            "Epoch 4/200\n",
            "6/6 [==============================] - 0s 4ms/step - loss: 273.8917 - lr: 0.0010\n",
            "Epoch 5/200\n",
            "6/6 [==============================] - 0s 3ms/step - loss: 326.2262 - lr: 0.0010\n",
            "Epoch 6/200\n",
            "6/6 [==============================] - 0s 4ms/step - loss: 295.4000 - lr: 0.0010\n",
            "Epoch 7/200\n",
            "6/6 [==============================] - 0s 3ms/step - loss: 173.4634 - lr: 0.0010\n",
            "Epoch 8/200\n",
            "6/6 [==============================] - 0s 3ms/step - loss: 103.7723 - lr: 0.0010\n",
            "Epoch 9/200\n",
            "6/6 [==============================] - 0s 3ms/step - loss: 50.1471 - lr: 0.0010\n",
            "Epoch 10/200\n",
            "6/6 [==============================] - 0s 3ms/step - loss: 49.6795 - lr: 0.0010\n",
            "Epoch 11/200\n",
            "6/6 [==============================] - 0s 13ms/step - loss: 56.0680 - lr: 0.0010\n",
            "Epoch 12/200\n",
            "6/6 [==============================] - 0s 6ms/step - loss: 48.1864 - lr: 0.0010\n",
            "Epoch 13/200\n",
            "6/6 [==============================] - 0s 4ms/step - loss: 34.7630 - lr: 0.0010\n",
            "Epoch 14/200\n",
            "6/6 [==============================] - 0s 5ms/step - loss: 30.1091 - lr: 0.0010\n",
            "Epoch 15/200\n",
            "6/6 [==============================] - 0s 5ms/step - loss: 17.1378 - lr: 0.0010\n",
            "Epoch 16/200\n",
            "6/6 [==============================] - 0s 4ms/step - loss: 9.9006 - lr: 0.0010\n",
            "Epoch 17/200\n",
            "6/6 [==============================] - 0s 9ms/step - loss: 6.7867 - lr: 0.0010\n",
            "Epoch 18/200\n",
            "6/6 [==============================] - 0s 7ms/step - loss: 6.2197 - lr: 0.0010\n",
            "Epoch 19/200\n",
            "6/6 [==============================] - 0s 7ms/step - loss: 5.2296 - lr: 0.0010\n",
            "Epoch 20/200\n",
            "6/6 [==============================] - 0s 5ms/step - loss: 3.1340 - lr: 0.0010\n",
            "Epoch 21/200\n",
            "6/6 [==============================] - 0s 4ms/step - loss: 3.2571 - lr: 0.0010\n",
            "Epoch 22/200\n",
            "6/6 [==============================] - 0s 4ms/step - loss: 2.8057 - lr: 0.0010\n",
            "Epoch 23/200\n",
            "6/6 [==============================] - 0s 4ms/step - loss: 2.3772 - lr: 0.0010\n",
            "Epoch 24/200\n",
            "6/6 [==============================] - 0s 9ms/step - loss: 1.9125 - lr: 0.0010\n",
            "Epoch 25/200\n",
            "6/6 [==============================] - 0s 6ms/step - loss: 1.3413 - lr: 0.0010\n",
            "Epoch 26/200\n",
            "6/6 [==============================] - 0s 4ms/step - loss: 1.1106 - lr: 0.0010\n",
            "Epoch 27/200\n",
            "6/6 [==============================] - 0s 4ms/step - loss: 1.0863 - lr: 0.0010\n",
            "Epoch 28/200\n",
            "6/6 [==============================] - 0s 3ms/step - loss: 1.5821 - lr: 0.0010\n",
            "Epoch 29/200\n",
            "6/6 [==============================] - 0s 6ms/step - loss: 1.1093 - lr: 0.0010\n",
            "Epoch 30/200\n",
            "6/6 [==============================] - 0s 4ms/step - loss: 0.9437 - lr: 0.0010\n",
            "Epoch 31/200\n",
            "6/6 [==============================] - 0s 7ms/step - loss: 0.9169 - lr: 0.0010\n",
            "Epoch 32/200\n",
            "6/6 [==============================] - 0s 4ms/step - loss: 0.9077 - lr: 0.0010\n",
            "Epoch 33/200\n",
            "6/6 [==============================] - 0s 4ms/step - loss: 1.1426 - lr: 0.0010\n",
            "Epoch 34/200\n",
            "6/6 [==============================] - 0s 10ms/step - loss: 1.1957 - lr: 0.0010\n",
            "Epoch 35/200\n",
            "6/6 [==============================] - 0s 5ms/step - loss: 0.9056 - lr: 0.0010\n",
            "Epoch 36/200\n",
            "6/6 [==============================] - 0s 7ms/step - loss: 0.9735 - lr: 0.0010\n",
            "Epoch 37/200\n",
            "6/6 [==============================] - 0s 4ms/step - loss: 0.9081 - lr: 0.0010\n",
            "Epoch 38/200\n",
            "6/6 [==============================] - 0s 3ms/step - loss: 1.0342 - lr: 0.0010\n",
            "Epoch 39/200\n",
            "6/6 [==============================] - 0s 3ms/step - loss: 1.1194 - lr: 0.0010\n",
            "Epoch 40/200\n",
            "6/6 [==============================] - 0s 3ms/step - loss: 0.9722 - lr: 0.0010\n",
            "Epoch 41/200\n",
            "6/6 [==============================] - 0s 5ms/step - loss: 0.9883 - lr: 0.0010\n",
            "Epoch 42/200\n",
            "6/6 [==============================] - 0s 3ms/step - loss: 0.9989 - lr: 0.0010\n",
            "Epoch 43/200\n",
            "6/6 [==============================] - 0s 7ms/step - loss: 0.9242 - lr: 0.0010\n",
            "Epoch 44/200\n",
            "6/6 [==============================] - 0s 3ms/step - loss: 0.9912 - lr: 0.0010\n",
            "Epoch 45/200\n",
            "6/6 [==============================] - 0s 11ms/step - loss: 0.8863 - lr: 0.0010\n",
            "Epoch 46/200\n",
            "6/6 [==============================] - 0s 10ms/step - loss: 0.9707 - lr: 0.0010\n",
            "Epoch 47/200\n",
            "6/6 [==============================] - 0s 7ms/step - loss: 0.9638 - lr: 0.0010\n",
            "Epoch 48/200\n",
            "6/6 [==============================] - 0s 5ms/step - loss: 0.9173 - lr: 0.0010\n",
            "Epoch 49/200\n",
            "6/6 [==============================] - 0s 4ms/step - loss: 0.9494 - lr: 0.0010\n",
            "Epoch 50/200\n",
            "6/6 [==============================] - 0s 3ms/step - loss: 0.9831 - lr: 0.0010\n",
            "Epoch 51/200\n",
            "6/6 [==============================] - 0s 4ms/step - loss: 1.0197 - lr: 1.0000e-04\n",
            "Epoch 52/200\n",
            "6/6 [==============================] - 0s 4ms/step - loss: 0.9393 - lr: 1.0000e-04\n",
            "Epoch 53/200\n",
            "6/6 [==============================] - 0s 4ms/step - loss: 0.8867 - lr: 1.0000e-04\n",
            "Epoch 54/200\n",
            "6/6 [==============================] - 0s 6ms/step - loss: 0.9070 - lr: 1.0000e-04\n",
            "Epoch 55/200\n",
            "6/6 [==============================] - 0s 6ms/step - loss: 0.8795 - lr: 1.0000e-04\n",
            "Epoch 56/200\n",
            "6/6 [==============================] - 0s 5ms/step - loss: 0.8706 - lr: 1.0000e-04\n",
            "Epoch 57/200\n",
            "6/6 [==============================] - 0s 5ms/step - loss: 0.8752 - lr: 1.0000e-04\n",
            "Epoch 58/200\n",
            "6/6 [==============================] - 0s 6ms/step - loss: 0.8848 - lr: 1.0000e-04\n",
            "Epoch 59/200\n",
            "6/6 [==============================] - 0s 6ms/step - loss: 0.8761 - lr: 1.0000e-04\n",
            "Epoch 60/200\n",
            "6/6 [==============================] - 0s 5ms/step - loss: 0.8708 - lr: 1.0000e-04\n",
            "Epoch 61/200\n",
            "6/6 [==============================] - 0s 4ms/step - loss: 0.8799 - lr: 1.0000e-04\n",
            "Epoch 62/200\n",
            "6/6 [==============================] - 0s 4ms/step - loss: 0.8808 - lr: 1.0000e-04\n",
            "Epoch 63/200\n",
            "6/6 [==============================] - 0s 3ms/step - loss: 0.8849 - lr: 1.0000e-04\n",
            "Epoch 64/200\n",
            "6/6 [==============================] - 0s 5ms/step - loss: 0.8748 - lr: 1.0000e-04\n",
            "Epoch 65/200\n",
            "6/6 [==============================] - 0s 6ms/step - loss: 0.9547 - lr: 1.0000e-04\n",
            "Epoch 66/200\n",
            "6/6 [==============================] - 0s 5ms/step - loss: 0.9151 - lr: 1.0000e-04\n",
            "Epoch 67/200\n",
            "6/6 [==============================] - 0s 5ms/step - loss: 0.8718 - lr: 1.0000e-04\n",
            "Epoch 68/200\n",
            "6/6 [==============================] - 0s 5ms/step - loss: 0.8823 - lr: 1.0000e-04\n",
            "Epoch 69/200\n",
            "6/6 [==============================] - 0s 5ms/step - loss: 0.8850 - lr: 1.0000e-04\n",
            "Epoch 70/200\n",
            "6/6 [==============================] - 0s 8ms/step - loss: 0.8737 - lr: 1.0000e-04\n",
            "Epoch 71/200\n",
            "6/6 [==============================] - 0s 4ms/step - loss: 0.8721 - lr: 1.0000e-04\n",
            "Epoch 72/200\n",
            "6/6 [==============================] - 0s 3ms/step - loss: 0.8759 - lr: 1.0000e-04\n",
            "Epoch 73/200\n",
            "6/6 [==============================] - 0s 3ms/step - loss: 0.8725 - lr: 1.0000e-04\n",
            "Epoch 74/200\n",
            "6/6 [==============================] - 0s 3ms/step - loss: 0.8808 - lr: 1.0000e-04\n",
            "Epoch 75/200\n",
            "6/6 [==============================] - 0s 3ms/step - loss: 0.8787 - lr: 1.0000e-04\n",
            "Epoch 76/200\n",
            "6/6 [==============================] - 0s 3ms/step - loss: 0.8757 - lr: 1.0000e-04\n",
            "Epoch 77/200\n",
            "6/6 [==============================] - 0s 12ms/step - loss: 0.8760 - lr: 1.0000e-04\n",
            "Epoch 78/200\n",
            "6/6 [==============================] - 0s 5ms/step - loss: 0.8714 - lr: 1.0000e-04\n",
            "Epoch 79/200\n",
            "6/6 [==============================] - 0s 3ms/step - loss: 0.8741 - lr: 1.0000e-04\n",
            "Epoch 80/200\n",
            "6/6 [==============================] - 0s 6ms/step - loss: 0.8863 - lr: 1.0000e-04\n",
            "Epoch 81/200\n",
            "6/6 [==============================] - 0s 7ms/step - loss: 0.8842 - lr: 1.0000e-04\n",
            "Epoch 82/200\n",
            "6/6 [==============================] - 0s 6ms/step - loss: 0.8707 - lr: 1.0000e-04\n",
            "Epoch 83/200\n",
            "6/6 [==============================] - 0s 5ms/step - loss: 0.8754 - lr: 1.0000e-04\n",
            "Epoch 84/200\n",
            "6/6 [==============================] - 0s 4ms/step - loss: 0.8759 - lr: 1.0000e-04\n",
            "Epoch 85/200\n",
            "6/6 [==============================] - 0s 3ms/step - loss: 0.8712 - lr: 1.0000e-04\n",
            "Epoch 86/200\n",
            "6/6 [==============================] - 0s 3ms/step - loss: 0.8731 - lr: 1.0000e-04\n",
            "Epoch 87/200\n",
            "6/6 [==============================] - 0s 3ms/step - loss: 0.8721 - lr: 1.0000e-04\n",
            "Epoch 88/200\n",
            "6/6 [==============================] - 0s 3ms/step - loss: 0.8821 - lr: 1.0000e-04\n",
            "Epoch 89/200\n",
            "6/6 [==============================] - 0s 3ms/step - loss: 0.8816 - lr: 1.0000e-04\n",
            "Epoch 90/200\n",
            "6/6 [==============================] - 0s 3ms/step - loss: 0.8830 - lr: 1.0000e-04\n",
            "Epoch 91/200\n",
            "6/6 [==============================] - 0s 3ms/step - loss: 0.8749 - lr: 1.0000e-04\n",
            "Epoch 92/200\n",
            "6/6 [==============================] - 0s 8ms/step - loss: 0.8790 - lr: 1.0000e-04\n",
            "Epoch 93/200\n",
            "6/6 [==============================] - 0s 6ms/step - loss: 0.8864 - lr: 1.0000e-04\n",
            "Epoch 94/200\n",
            "6/6 [==============================] - 0s 5ms/step - loss: 0.8778 - lr: 1.0000e-04\n",
            "Epoch 95/200\n",
            "6/6 [==============================] - 0s 3ms/step - loss: 0.8731 - lr: 1.0000e-04\n",
            "Epoch 96/200\n",
            "6/6 [==============================] - 0s 8ms/step - loss: 0.8778 - lr: 1.0000e-04\n",
            "Epoch 97/200\n",
            "6/6 [==============================] - 0s 5ms/step - loss: 0.8721 - lr: 1.0000e-04\n",
            "Epoch 98/200\n",
            "6/6 [==============================] - 0s 7ms/step - loss: 0.8702 - lr: 1.0000e-04\n",
            "Epoch 99/200\n",
            "6/6 [==============================] - 0s 4ms/step - loss: 0.8719 - lr: 1.0000e-04\n",
            "Epoch 100/200\n",
            "6/6 [==============================] - 0s 7ms/step - loss: 0.8741 - lr: 1.0000e-04\n",
            "Epoch 101/200\n",
            "6/6 [==============================] - 0s 4ms/step - loss: 0.8811 - lr: 1.0000e-04\n",
            "Epoch 102/200\n",
            "6/6 [==============================] - 0s 4ms/step - loss: 0.8723 - lr: 1.0000e-04\n",
            "Epoch 103/200\n",
            "6/6 [==============================] - 0s 4ms/step - loss: 0.8720 - lr: 1.0000e-04\n",
            "Epoch 104/200\n",
            "6/6 [==============================] - 0s 5ms/step - loss: 0.8775 - lr: 1.0000e-04\n",
            "Epoch 105/200\n",
            "6/6 [==============================] - 0s 4ms/step - loss: 0.8772 - lr: 1.0000e-04\n",
            "Epoch 106/200\n",
            "6/6 [==============================] - 0s 2ms/step - loss: 0.8709 - lr: 1.0000e-04\n",
            "Epoch 107/200\n",
            "6/6 [==============================] - 0s 7ms/step - loss: 0.8715 - lr: 1.0000e-04\n",
            "Epoch 108/200\n",
            "6/6 [==============================] - 0s 3ms/step - loss: 0.8699 - lr: 1.0000e-04\n",
            "Epoch 109/200\n",
            "6/6 [==============================] - 0s 6ms/step - loss: 0.8908 - lr: 1.0000e-04\n",
            "Epoch 110/200\n",
            "6/6 [==============================] - 0s 8ms/step - loss: 0.9079 - lr: 1.0000e-04\n",
            "Epoch 111/200\n",
            "6/6 [==============================] - 0s 5ms/step - loss: 0.9031 - lr: 1.0000e-04\n",
            "Epoch 112/200\n",
            "6/6 [==============================] - 0s 3ms/step - loss: 0.8709 - lr: 1.0000e-04\n",
            "Epoch 113/200\n",
            "6/6 [==============================] - 0s 3ms/step - loss: 0.8879 - lr: 1.0000e-04\n",
            "Epoch 114/200\n",
            "6/6 [==============================] - 0s 3ms/step - loss: 0.8918 - lr: 1.0000e-04\n",
            "Epoch 115/200\n",
            "6/6 [==============================] - 0s 6ms/step - loss: 0.8793 - lr: 1.0000e-04\n",
            "Epoch 116/200\n",
            "6/6 [==============================] - 0s 4ms/step - loss: 0.8770 - lr: 1.0000e-04\n",
            "Epoch 117/200\n",
            "6/6 [==============================] - 0s 8ms/step - loss: 0.8690 - lr: 1.0000e-04\n",
            "Epoch 118/200\n",
            "6/6 [==============================] - 0s 3ms/step - loss: 0.8762 - lr: 1.0000e-04\n",
            "Epoch 119/200\n",
            "6/6 [==============================] - 0s 3ms/step - loss: 0.8883 - lr: 1.0000e-04\n",
            "Epoch 120/200\n",
            "6/6 [==============================] - 0s 3ms/step - loss: 0.8824 - lr: 1.0000e-04\n",
            "Epoch 121/200\n",
            "6/6 [==============================] - 0s 3ms/step - loss: 0.8869 - lr: 1.0000e-04\n",
            "Epoch 122/200\n",
            "6/6 [==============================] - 0s 4ms/step - loss: 0.8866 - lr: 1.0000e-04\n",
            "Epoch 123/200\n",
            "6/6 [==============================] - 0s 3ms/step - loss: 0.8786 - lr: 1.0000e-04\n",
            "Epoch 124/200\n",
            "6/6 [==============================] - 0s 3ms/step - loss: 0.8783 - lr: 1.0000e-04\n",
            "Epoch 125/200\n",
            "6/6 [==============================] - 0s 3ms/step - loss: 0.8733 - lr: 1.0000e-04\n",
            "Epoch 126/200\n",
            "6/6 [==============================] - 0s 3ms/step - loss: 0.8748 - lr: 1.0000e-04\n",
            "Epoch 127/200\n",
            "6/6 [==============================] - 0s 7ms/step - loss: 0.8733 - lr: 1.0000e-04\n",
            "Epoch 128/200\n",
            "6/6 [==============================] - 0s 4ms/step - loss: 0.9083 - lr: 1.0000e-04\n",
            "Epoch 129/200\n",
            "6/6 [==============================] - 0s 3ms/step - loss: 0.8864 - lr: 1.0000e-04\n",
            "Epoch 130/200\n",
            "6/6 [==============================] - 0s 3ms/step - loss: 0.8712 - lr: 1.0000e-04\n",
            "Epoch 131/200\n",
            "6/6 [==============================] - 0s 3ms/step - loss: 0.8901 - lr: 1.0000e-04\n",
            "Epoch 132/200\n",
            "6/6 [==============================] - 0s 7ms/step - loss: 0.8939 - lr: 1.0000e-04\n",
            "Epoch 133/200\n",
            "6/6 [==============================] - 0s 7ms/step - loss: 0.8749 - lr: 1.0000e-04\n",
            "Epoch 134/200\n",
            "6/6 [==============================] - 0s 5ms/step - loss: 0.8774 - lr: 1.0000e-04\n",
            "Epoch 135/200\n",
            "6/6 [==============================] - 0s 8ms/step - loss: 0.8703 - lr: 1.0000e-04\n",
            "Epoch 136/200\n",
            "6/6 [==============================] - 0s 6ms/step - loss: 0.8764 - lr: 1.0000e-04\n",
            "Epoch 137/200\n",
            "6/6 [==============================] - 0s 5ms/step - loss: 0.8829 - lr: 1.0000e-04\n",
            "Epoch 138/200\n",
            "6/6 [==============================] - 0s 7ms/step - loss: 0.8786 - lr: 1.0000e-04\n",
            "Epoch 139/200\n",
            "6/6 [==============================] - 0s 5ms/step - loss: 0.8708 - lr: 1.0000e-04\n",
            "Epoch 140/200\n",
            "6/6 [==============================] - 0s 5ms/step - loss: 0.8777 - lr: 1.0000e-04\n",
            "Epoch 141/200\n",
            "6/6 [==============================] - 0s 5ms/step - loss: 0.8744 - lr: 1.0000e-04\n",
            "Epoch 142/200\n",
            "6/6 [==============================] - 0s 15ms/step - loss: 0.8731 - lr: 1.0000e-04\n",
            "Epoch 143/200\n",
            "6/6 [==============================] - 0s 17ms/step - loss: 0.8838 - lr: 1.0000e-04\n",
            "Epoch 144/200\n",
            "6/6 [==============================] - 0s 10ms/step - loss: 0.8777 - lr: 1.0000e-04\n",
            "Epoch 145/200\n",
            "6/6 [==============================] - 0s 8ms/step - loss: 0.8798 - lr: 1.0000e-04\n",
            "Epoch 146/200\n",
            "6/6 [==============================] - 0s 8ms/step - loss: 0.8851 - lr: 1.0000e-04\n",
            "Epoch 147/200\n",
            "6/6 [==============================] - 0s 9ms/step - loss: 0.8803 - lr: 1.0000e-04\n",
            "Epoch 148/200\n",
            "6/6 [==============================] - 0s 8ms/step - loss: 0.8895 - lr: 1.0000e-04\n",
            "Epoch 149/200\n",
            "6/6 [==============================] - 0s 9ms/step - loss: 0.8722 - lr: 1.0000e-04\n",
            "Epoch 150/200\n",
            "6/6 [==============================] - 0s 11ms/step - loss: 0.8978 - lr: 1.0000e-04\n",
            "Epoch 151/200\n",
            "6/6 [==============================] - 0s 4ms/step - loss: 0.9373 - lr: 1.0000e-04\n",
            "Epoch 152/200\n",
            "6/6 [==============================] - 0s 3ms/step - loss: 0.8759 - lr: 1.0000e-04\n",
            "Epoch 153/200\n",
            "6/6 [==============================] - 0s 8ms/step - loss: 0.8970 - lr: 1.0000e-04\n",
            "Epoch 154/200\n",
            "6/6 [==============================] - 0s 6ms/step - loss: 0.8825 - lr: 1.0000e-04\n",
            "Epoch 155/200\n",
            "6/6 [==============================] - 0s 5ms/step - loss: 0.8730 - lr: 1.0000e-04\n",
            "Epoch 156/200\n",
            "6/6 [==============================] - 0s 7ms/step - loss: 0.8719 - lr: 1.0000e-04\n",
            "Epoch 157/200\n",
            "6/6 [==============================] - 0s 12ms/step - loss: 0.8705 - lr: 1.0000e-04\n",
            "Epoch 158/200\n",
            "6/6 [==============================] - 0s 10ms/step - loss: 0.8722 - lr: 1.0000e-04\n",
            "Epoch 159/200\n",
            "6/6 [==============================] - 0s 7ms/step - loss: 0.8901 - lr: 1.0000e-04\n",
            "Epoch 160/200\n",
            "6/6 [==============================] - 0s 3ms/step - loss: 0.8675 - lr: 1.0000e-04\n",
            "Epoch 161/200\n",
            "6/6 [==============================] - 0s 6ms/step - loss: 0.8891 - lr: 1.0000e-04\n",
            "Epoch 162/200\n",
            "6/6 [==============================] - 0s 12ms/step - loss: 0.8772 - lr: 1.0000e-04\n",
            "Epoch 163/200\n",
            "6/6 [==============================] - 0s 10ms/step - loss: 0.8776 - lr: 1.0000e-04\n",
            "Epoch 164/200\n",
            "6/6 [==============================] - 0s 8ms/step - loss: 0.8714 - lr: 1.0000e-04\n",
            "Epoch 165/200\n",
            "6/6 [==============================] - 0s 5ms/step - loss: 0.8802 - lr: 1.0000e-04\n",
            "Epoch 166/200\n",
            "6/6 [==============================] - 0s 5ms/step - loss: 0.9027 - lr: 1.0000e-04\n",
            "Epoch 167/200\n",
            "6/6 [==============================] - 0s 5ms/step - loss: 0.8979 - lr: 1.0000e-04\n",
            "Epoch 168/200\n",
            "6/6 [==============================] - 0s 5ms/step - loss: 0.8790 - lr: 1.0000e-04\n",
            "Epoch 169/200\n",
            "6/6 [==============================] - 0s 10ms/step - loss: 0.8733 - lr: 1.0000e-04\n",
            "Epoch 170/200\n",
            "6/6 [==============================] - 0s 7ms/step - loss: 0.8792 - lr: 1.0000e-04\n",
            "Epoch 171/200\n",
            "6/6 [==============================] - 0s 6ms/step - loss: 0.8790 - lr: 1.0000e-04\n",
            "Epoch 172/200\n",
            "6/6 [==============================] - 0s 4ms/step - loss: 0.8736 - lr: 1.0000e-04\n",
            "Epoch 173/200\n",
            "6/6 [==============================] - 0s 13ms/step - loss: 0.8797 - lr: 1.0000e-04\n",
            "Epoch 174/200\n",
            "6/6 [==============================] - 0s 7ms/step - loss: 0.8732 - lr: 1.0000e-04\n",
            "Epoch 175/200\n",
            "6/6 [==============================] - 0s 8ms/step - loss: 0.8752 - lr: 1.0000e-04\n",
            "Epoch 176/200\n",
            "6/6 [==============================] - 0s 12ms/step - loss: 0.8779 - lr: 1.0000e-04\n",
            "Epoch 177/200\n",
            "6/6 [==============================] - 0s 4ms/step - loss: 0.8709 - lr: 1.0000e-04\n",
            "Epoch 178/200\n",
            "6/6 [==============================] - 0s 10ms/step - loss: 0.8737 - lr: 1.0000e-04\n",
            "Epoch 179/200\n",
            "6/6 [==============================] - 0s 14ms/step - loss: 0.8729 - lr: 1.0000e-04\n",
            "Epoch 180/200\n",
            "6/6 [==============================] - 0s 6ms/step - loss: 0.8725 - lr: 1.0000e-04\n",
            "Epoch 181/200\n",
            "6/6 [==============================] - 0s 10ms/step - loss: 0.8719 - lr: 1.0000e-04\n",
            "Epoch 182/200\n",
            "6/6 [==============================] - 0s 6ms/step - loss: 0.8717 - lr: 1.0000e-04\n",
            "Epoch 183/200\n",
            "6/6 [==============================] - 0s 4ms/step - loss: 0.8734 - lr: 1.0000e-04\n",
            "Epoch 184/200\n",
            "6/6 [==============================] - 0s 4ms/step - loss: 0.8776 - lr: 1.0000e-04\n",
            "Epoch 185/200\n",
            "6/6 [==============================] - 0s 4ms/step - loss: 0.8714 - lr: 1.0000e-04\n",
            "Epoch 186/200\n",
            "6/6 [==============================] - 0s 3ms/step - loss: 0.8797 - lr: 1.0000e-04\n",
            "Epoch 187/200\n",
            "6/6 [==============================] - 0s 15ms/step - loss: 0.8767 - lr: 1.0000e-04\n",
            "Epoch 188/200\n",
            "6/6 [==============================] - 0s 10ms/step - loss: 0.8747 - lr: 1.0000e-04\n",
            "Epoch 189/200\n",
            "6/6 [==============================] - 0s 9ms/step - loss: 0.8692 - lr: 1.0000e-04\n",
            "Epoch 190/200\n",
            "6/6 [==============================] - 0s 9ms/step - loss: 0.8800 - lr: 1.0000e-04\n",
            "Epoch 191/200\n",
            "6/6 [==============================] - 0s 7ms/step - loss: 0.8722 - lr: 1.0000e-04\n",
            "Epoch 192/200\n",
            "6/6 [==============================] - 0s 7ms/step - loss: 0.8713 - lr: 1.0000e-04\n",
            "Epoch 193/200\n",
            "6/6 [==============================] - 0s 9ms/step - loss: 0.8706 - lr: 1.0000e-04\n",
            "Epoch 194/200\n",
            "6/6 [==============================] - 0s 6ms/step - loss: 0.8750 - lr: 1.0000e-04\n",
            "Epoch 195/200\n",
            "6/6 [==============================] - 0s 7ms/step - loss: 0.8860 - lr: 1.0000e-04\n",
            "Epoch 196/200\n",
            "6/6 [==============================] - 0s 8ms/step - loss: 0.9405 - lr: 1.0000e-04\n",
            "Epoch 197/200\n",
            "6/6 [==============================] - 0s 12ms/step - loss: 0.9124 - lr: 1.0000e-04\n",
            "Epoch 198/200\n",
            "6/6 [==============================] - 0s 4ms/step - loss: 0.8693 - lr: 1.0000e-04\n",
            "Epoch 199/200\n",
            "6/6 [==============================] - 0s 4ms/step - loss: 0.8769 - lr: 1.0000e-04\n",
            "Epoch 200/200\n",
            "6/6 [==============================] - 0s 15ms/step - loss: 0.8777 - lr: 1.0000e-04\n"
          ]
        }
      ]
    },
    {
      "cell_type": "code",
      "source": [
        "plt.plot(r.history['loss'], label='loss')\n",
        "plt.legend()"
      ],
      "metadata": {
        "colab": {
          "base_uri": "https://localhost:8080/",
          "height": 283
        },
        "id": "mXcRiiV-0buT",
        "outputId": "bd0c570d-e315-4b92-897e-3a8c8a972eca"
      },
      "execution_count": 46,
      "outputs": [
        {
          "output_type": "execute_result",
          "data": {
            "text/plain": [
              "<matplotlib.legend.Legend at 0x7f99c942fc40>"
            ]
          },
          "metadata": {},
          "execution_count": 46
        },
        {
          "output_type": "display_data",
          "data": {
            "text/plain": [
              "<Figure size 432x288 with 1 Axes>"
            ],
            "image/png": "[encoded data removed]"
          },
          "metadata": {
            "needs_background": "light"
          }
        }
      ]
    },
    {
      "cell_type": "code",
      "source": [
        "# get the slope of line\n",
        "# slope of line is related to the doubling rate of transistor count\n",
        "print(model.layers)\n",
        "print(model.layers[0].get_weights())"
      ],
      "metadata": {
        "colab": {
          "base_uri": "https://localhost:8080/"
        },
        "id": "LbbeUbZT0bsA",
        "outputId": "46b87fbf-cb54-4ee4-fad5-d8e7d3444167"
      },
      "execution_count": 47,
      "outputs": [
        {
          "output_type": "stream",
          "name": "stdout",
          "text": [
            "[<keras.layers.core.dense.Dense object at 0x7f99c942be80>]\n",
            "[array([[0.33865434]], dtype=float32), array([17.760607], dtype=float32)]\n"
          ]
        }
      ]
    },
    {
      "cell_type": "code",
      "source": [
        "a = model.layers[0].get_weights()[0][0, 0]"
      ],
      "metadata": {
        "id": "RF_aifK4DdoT"
      },
      "execution_count": 48,
      "outputs": []
    },
    {
      "cell_type": "code",
      "source": [
        "print(f\"Time to double: {np.log(2) / a}\")"
      ],
      "metadata": {
        "colab": {
          "base_uri": "https://localhost:8080/"
        },
        "id": "DfpmMXST0bpu",
        "outputId": "d1d754df-29a4-4d01-a69a-8d9ed5e9449e"
      },
      "execution_count": 49,
      "outputs": [
        {
          "output_type": "stream",
          "name": "stdout",
          "text": [
            "Time to double: 2.0467689324903904\n"
          ]
        }
      ]
    },
    {
      "cell_type": "markdown",
      "source": [
        "### Predictions"
      ],
      "metadata": {
        "id": "ueVOFNJrRsBL"
      }
    },
    {
      "cell_type": "code",
      "source": [
        "yhat = model.predict(X).flatten()\n",
        "plt.scatter(X, y)\n",
        "plt.plot(X, yhat, c='red')"
      ],
      "metadata": {
        "colab": {
          "base_uri": "https://localhost:8080/",
          "height": 302
        },
        "id": "ZeftcSmMRtPM",
        "outputId": "012fdae5-b2d7-4427-a3f4-c1e09f2ffc23"
      },
      "execution_count": 56,
      "outputs": [
        {
          "output_type": "stream",
          "name": "stdout",
          "text": [
            "6/6 [==============================] - 0s 3ms/step\n"
          ]
        },
        {
          "output_type": "execute_result",
          "data": {
            "text/plain": [
              "[<matplotlib.lines.Line2D at 0x7f99c94f1820>]"
            ]
          },
          "metadata": {},
          "execution_count": 56
        },
        {
          "output_type": "display_data",
          "data": {
            "text/plain": [
              "<Figure size 432x288 with 1 Axes>"
            ],
            "image/png": "[encoded data removed]"
          },
          "metadata": {
            "needs_background": "light"
          }
        }
      ]
    },
    {
      "cell_type": "code",
      "source": [
        "# manual calculation\n",
        "\n",
        "w, b = model.layers[0].get_weights()\n",
        "\n",
        "X = X.reshape(-1, 1)\n",
        "\n",
        "yhat2 = (X.dot(w) + b).flatten()\n",
        "\n",
        "np.allclose(yhat, yhat2)"
      ],
      "metadata": {
        "colab": {
          "base_uri": "https://localhost:8080/"
        },
        "id": "oG-v4Zzq0bk7",
        "outputId": "55803f40-32c9-4eb3-be23-87fcb3117e6b"
      },
      "execution_count": 57,
      "outputs": [
        {
          "output_type": "execute_result",
          "data": {
            "text/plain": [
              "True"
            ]
          },
          "metadata": {},
          "execution_count": 57
        }
      ]
    }
  ]
}